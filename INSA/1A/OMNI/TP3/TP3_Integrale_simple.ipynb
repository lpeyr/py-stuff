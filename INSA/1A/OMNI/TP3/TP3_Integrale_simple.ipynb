{
 "cells": [
  {
   "cell_type": "markdown",
   "id": "02c7aba9-9f00-4e3e-a254-d1fb01588dd8",
   "metadata": {},
   "source": [
    "# Intégration numérique via les sommes de Riemann"
   ]
  },
  {
   "cell_type": "markdown",
   "id": "02124def",
   "metadata": {},
   "source": [
    "<div class='alert alert-info'>\n",
    "    <p>\n",
    "\n",
    "- Ce TP est une introduction au chapitre \"Intégrales multiples\" que vous allez réaliser au S2.\n",
    "        \n",
    "- Il consiste à approximer le calcul d'intégrales simples à une variable par la méthode de Riemann. L'objectif est de mieux comprendre les notions de bornes d'intégration et de balayage d'un domaine. Ces bases seront utiles ensuite pour la résolution des intégrales multiples. Un autre aspect est d'aborder la problématique de la convergence des calculs numériques.</p>\n",
    "</div>\n"
   ]
  },
  {
   "cell_type": "markdown",
   "id": "54bec0d2-585b-4e21-8190-5429e7042203",
   "metadata": {},
   "source": [
    "## 1. Introduction\n",
    "\n",
    "On peut intégrer une fonction sur un intervalle par des méthodes d'intégration simple : l'intégrale d'un polynôme d'ordre $n$ est un polynôme d'ordre $n+1$, d'un cosinus un sinus, d'une exponentielle une exponetielle... Cependant pour certains types de fonctions, l'intégrale n'est pas évidente voir impossible à calculer analytiquement. Il est alors nécessaire d'utiliser une méthode numérique adaptée, comme par exemple la méthode des sommes de Riemann. Cette méthode numérique consiste à approcher une intégrale en additionnant les aires de petits rectangles, ou subdivisions, sous la fonction étudiée, cf. figure ci-dessous :\n",
    "\n",
    "<p>\n",
    "<img src=\"./figure1_TP3.png\" alt width=400 heigth=400>\n",
    "<center>Fig. 1 : Approximation de l'intégrale d'une fonction entre $a$ et $b$ par la somme des aires des rectangles roses. </center>\n",
    "<p>\n"
   ]
  },
  {
   "cell_type": "markdown",
   "id": "bd0cc819-6a6f-4e78-bbe9-0b4c9acc5e59",
   "metadata": {},
   "source": [
    "## 2. Comparaison entre méthode de Riemann et le calcul analytique\n",
    "Soit la fonction polynômiale ci-dessous dont on connait facilement l'intégrale :\n",
    "\n",
    "$$f(x) = 3x^3+3$$"
   ]
  },
  {
   "cell_type": "markdown",
   "id": "cd81bcb3-2265-4e03-8cd9-a61b2511e42c",
   "metadata": {},
   "source": [
    "#### Q2.1: Solution analytique\n",
    "\n",
    "Au brouillon, calculez l'intégrale $I$ de $f(x)$ sur l'intervalle $a,b = [-1, 1]$. Ecrire le résultat dans la cellule ci-dessous :"
   ]
  },
  {
   "cell_type": "code",
   "execution_count": 1,
   "id": "e9f36956-0bad-4417-909c-f4af25b70a99",
   "metadata": {},
   "outputs": [],
   "source": [
    "Iexact = 6     # Solution exacte de l'intégrale de f(x)"
   ]
  },
  {
   "cell_type": "markdown",
   "id": "d17a957c-f268-4006-8a68-4e4cbdcab4c9",
   "metadata": {},
   "source": [
    "#### Q2.2 Somme de Riemann\n",
    "\n",
    "- Lisez et comprenez le code suivant :"
   ]
  },
  {
   "cell_type": "code",
   "execution_count": 2,
   "id": "002aeb26-1cd0-4dad-bded-3608b1559b9c",
   "metadata": {},
   "outputs": [],
   "source": [
    "## Initialisation\n",
    "import numpy as np\n",
    "\n",
    "a = -1        # Borne inférieure\n",
    "b = 1         # Borne supérieure\n",
    "N = 10        # Nombre de subdivisions\n",
    "\n",
    "## Fonction de la fonction f(x) à intégrer\n",
    "def f(x):\n",
    "    return 3*(x**3) + 3\n",
    "\n",
    "## Algorithm de Riemann :  intégration numérique\n",
    "def riemann_1(func, a, b, N):\n",
    "    \n",
    "    dx  = (b - a) / N             # Taille d'une subdivision (constante ici)\n",
    "    val = 0                       # Initialisation de la valeur de l'intégrale\n",
    "\n",
    "    for i in range(N):            # On boucle sur toutes les subdivisions\n",
    "        x    = a + i * dx         # Point d'évaluation pour la subdivision\n",
    "        val  += func(x) * dx      # Somme successive des aires de chaque subdivision\n",
    "\n",
    "    return val"
   ]
  },
  {
   "cell_type": "markdown",
   "id": "ce1329de-6205-4a86-ad47-19d559284176",
   "metadata": {},
   "source": [
    "- Qu'avez-vous compris dans ce code ? "
   ]
  },
  {
   "cell_type": "markdown",
   "id": "1989b54d-aab7-4ebe-b412-c0210b0d1da5",
   "metadata": {},
   "source": [
    "Ce code fait une approximation d'une intégrale d'une fonction `func` entre les bornes `a` et `b` en utilisant la méthode des rectangles de Riemann."
   ]
  },
  {
   "cell_type": "markdown",
   "id": "950c67bf-98d4-481d-ae7d-350f4dd795b2",
   "metadata": {},
   "source": [
    "#### Q2.3 Comparaison entre calcul numérique et valeur exacte.\n",
    "- Remplacer les *??* du code ci-dessous pour évaluer l'intégrale $I_{num}$ de $f(x)$ sur l'intervalle $a,b = [-1, 1]$."
   ]
  },
  {
   "cell_type": "code",
   "execution_count": 3,
   "id": "f66eb00c-53b8-4bd7-9bdd-4b42c26fb771",
   "metadata": {},
   "outputs": [
    {
     "name": "stdout",
     "output_type": "stream",
     "text": [
      "Estimation de l'integrale de f(x) : 5.880000000000002\n"
     ]
    }
   ],
   "source": [
    "Inum = riemann_1(f, -1, 1, 50)\n",
    "\n",
    "print(\"Estimation de l'integrale de f(x) : \" + str(Inum))"
   ]
  },
  {
   "cell_type": "markdown",
   "id": "fda68ee6-85e6-449d-9be7-7e86ee6fa87d",
   "metadata": {},
   "source": [
    "- Que se passe-t-il si on augment la valeur de $N$ ? Evaluer l'erreur en pourcentage pour différentes valeur de $N$."
   ]
  },
  {
   "cell_type": "markdown",
   "id": "63c35634",
   "metadata": {},
   "source": [
    "On obtient une meilleure approximation : \n",
    "- N=100 : Erreur = 1%\n",
    "- N=50 : Erreur = 2%"
   ]
  },
  {
   "cell_type": "markdown",
   "id": "fc70b084",
   "metadata": {},
   "source": [
    "## 3. Comment améliorer la méthode de Riemann ?"
   ]
  },
  {
   "cell_type": "markdown",
   "id": "9dd65ab1-d921-4b64-a26a-38c265f00306",
   "metadata": {},
   "source": [
    "#### Q3.1 Changer le point d'évaluation"
   ]
  },
  {
   "cell_type": "markdown",
   "id": "9c6ca336",
   "metadata": {},
   "source": [
    "- Lisez les deux alternatives suivantes pour la méthode de Riemann."
   ]
  },
  {
   "cell_type": "code",
   "execution_count": 4,
   "id": "21631a05-5cb1-4de2-ae46-669a9f73dd3e",
   "metadata": {},
   "outputs": [],
   "source": [
    "## Alternative 1\n",
    "def riemann_2(func, a, b, N):\n",
    "    \n",
    "    dx  = (b - a) / N              # Taille d'une subdivision (constante ici)\n",
    "    val = 0                        # Initialisation de la valeur de l'intégrale\n",
    "\n",
    "    for i in range(N):             # On boucle sur toutes les subdivisions\n",
    "        x    = a + (i + 0.5) * dx  # Point d'évaluation pour la subdivision\n",
    "        val  += func(x) * dx       # Somme successive des aires de chaque subdivision\n",
    "\n",
    "    return val"
   ]
  },
  {
   "cell_type": "code",
   "execution_count": 5,
   "id": "fe7bbbd1-ce59-4f9b-a8ff-d9576295ad3f",
   "metadata": {},
   "outputs": [],
   "source": [
    "## Alternative 2\n",
    "def riemann_3(func, a, b, N):\n",
    "    \n",
    "    dx  = (b - a) / N             # Taille d'une subdivision (constante ici)\n",
    "    val = 0                       # Initialisation de la valeur de l'intégrale\n",
    "\n",
    "    for i in range(0,N+1):        # On boucle sur toutes les subdivisions\n",
    "        x    = a + i * dx         # Point d'évaluation pour la subdivision\n",
    "        val  += func(x) * dx      # Somme successive des aires de chaque subdivision\n",
    "\n",
    "    return val"
   ]
  },
  {
   "cell_type": "markdown",
   "id": "14fa0286-63bd-459d-a5c6-0f559f42d08a",
   "metadata": {},
   "source": [
    "- Quelle est la différence avec l'algorithme de l'exercice 1 avec les alternatives 1 et 2 ?\n",
    "- Associer alors chaque figure ci-dessous à un des trois algorithmes proposés.\n",
    "\n",
    "\n",
    "<p>\n",
    "<img src=\"./figure2_TP3.png\" alt width=800 heigth=800>\n",
    "<center>Fig. 2 : a), b) et c), trois méthodes pour l'algorithme de Riemann. </center>\n",
    "<p>\n"
   ]
  },
  {
   "cell_type": "markdown",
   "id": "28736374",
   "metadata": {},
   "source": [
    "- Le premier algorithme calcule l'intégrale en évaluant la fonction aux points $x_i$ de l'intervalle $[a,b]$. (Figure a)\n",
    "- Le deuxième algorithme calcule l'intégrale en évaluant la fonction aux points $x_i$ de l'intervalle $[a,b]$ et en prenant la valeur de la fonction au point médian $x_{i+1/2}$. (Figure c)\n",
    "- Le troisième algorithme calcule l'intégrale en évaluant la fonction aux points $x_i$ de l'intervalle $[a,b]$ jusqu'à prendre la valeur N+1 de la fonction au point $x_{N+1}$. (Figure b)"
   ]
  },
  {
   "cell_type": "markdown",
   "id": "86a174ad",
   "metadata": {},
   "source": [
    "#### Q3.2  Evaluations des différentes méthode de Riemann\n",
    "Dans la cellule ci-dessous, calculez pour $N=5$ la valeur de l'intégrale de $f(x)$ sur l'intervalle $a,b = [-1, 1]$ et l'erreur en pourcentage par rapport à sa valeur axacte pour les 3 alternatives de la méthode de Riemann."
   ]
  },
  {
   "cell_type": "code",
   "execution_count": 6,
   "id": "327d680f-7278-40c1-a0f9-ca6e46ea7337",
   "metadata": {},
   "outputs": [
    {
     "name": "stdout",
     "output_type": "stream",
     "text": [
      "Intégrale de f(x) : 4.800000000000001 (Riemann 1), Erreur en pourcentage : -20.00%\n",
      "Intégrale de f(x) : 6.000000000000001 (Riemann 2), Erreur en pourcentage : 0.00%\n",
      "Intégrale de f(x) : 7.200000000000001 (Riemann 3), Erreur en pourcentage : 20.00%\n"
     ]
    }
   ],
   "source": [
    "Inum = riemann_1(f, -1, 1, 5)\n",
    "Inum2 = riemann_2(f, -1, 1, 5)\n",
    "Inum3 = riemann_3(f, -1, 1, 5)\n",
    "Iexact = 6\n",
    "print(f\"Intégrale de f(x) : {Inum} (Riemann 1), Erreur en pourcentage : {100*(Inum-Iexact)/Iexact:.2f}%\")\n",
    "print(f\"Intégrale de f(x) : {Inum2} (Riemann 2), Erreur en pourcentage : {100*(Inum2-Iexact)/Iexact:.2f}%\")\n",
    "print(f\"Intégrale de f(x) : {Inum3} (Riemann 3), Erreur en pourcentage : {100*(Inum3-Iexact)/Iexact:.2f}%\")"
   ]
  },
  {
   "cell_type": "markdown",
   "id": "02931712-2232-43ab-ba48-24e68f62e9be",
   "metadata": {},
   "source": [
    "- Que concluez-vous ?"
   ]
  },
  {
   "cell_type": "markdown",
   "id": "ad81ee45",
   "metadata": {},
   "source": [
    "Le deuxième algorithme est plus précis que le premier et le troisième. En effet, il prend en compte la valeur de la fonction au point médian de chaque intervalle."
   ]
  },
  {
   "cell_type": "markdown",
   "id": "cf5ee9c8-152d-40b6-a4cd-b2ac1fc466e4",
   "metadata": {},
   "source": [
    "#### Q3.3 Remplacer les rectangles par des trapèzes\n",
    "\n",
    "Dans ce nouvel algorithme, la fonction à intégrer est approximée par des lignes successives entre les extrémités de chaque subdivision, donc une simple approximation linéaire, cf. figure 3. On constate que cette approximation est meilleure que les trois précédentes puisqu'elle réduit l'erreur.\n",
    "\n",
    "<p>\n",
    "<img src=\"./figure3_TP3.png\" alt width=400 heigth=400>\n",
    "<center>Fig. 3 : Méthode des trapèzes. </center>\n",
    "<p>\n"
   ]
  },
  {
   "cell_type": "markdown",
   "id": "0540569d",
   "metadata": {},
   "source": [
    "- Complétez le code ci-dessous pour réaliser la méthode des trapèzes :"
   ]
  },
  {
   "cell_type": "code",
   "execution_count": 7,
   "id": "512dce6b-bc78-4c9c-9c98-4799a185bd8b",
   "metadata": {},
   "outputs": [],
   "source": [
    "## Alternative algorithm for the Riemann numerical integration method\n",
    "def riemann_trap(func, a, b, N):\n",
    "    \n",
    "    dx  = (b - a) / N            # Taille d'une subdivision (constante ici)\n",
    "    val = 0                      # Initialisation de la valeur de l'intégrale\n",
    "\n",
    "    for i in range(0,N):       # On boucle sur toutes les subdivisionsl\n",
    "        x_start = a+i*dx           # Point inférieur d'évaluation pour la subdivision\n",
    "        x_end   = a+(i+1)*dx       # Point supérieur d'évaluation pour la subdivision\n",
    "                                 # Faire la somme des aires du trapèze\n",
    "        val    += min(func(x_start), func(x_end)) * dx + 0.5 * (func(x_end) - func(x_start)) * dx\n",
    "    return val\n"
   ]
  },
  {
   "cell_type": "markdown",
   "id": "e017b3e5-63d2-4147-8766-284587e2b6d1",
   "metadata": {},
   "source": [
    "- Evaluez l'erreur pour $N=10$ avec cette méthode des trapèzes. Conclusions ?"
   ]
  },
  {
   "cell_type": "code",
   "execution_count": 8,
   "id": "abbc654b-33ee-475a-ad16-e939b21f0f89",
   "metadata": {},
   "outputs": [
    {
     "name": "stdout",
     "output_type": "stream",
     "text": [
      "Intégrale de f(x) : 5.999999999999997\n"
     ]
    }
   ],
   "source": [
    "print(\"Intégrale de f(x) : \" + str(riemann_trap(f, -1, 1, 1000)))"
   ]
  },
  {
   "cell_type": "markdown",
   "id": "9964a67d-73ed-4c9d-b87a-068d8d6bb99d",
   "metadata": {},
   "source": [
    "## 4. Intégrale de la fonction de densité de probabilité\n",
    "\n",
    "La fonction de densité de probabilité d'une distribution normale, également connue sous le nom de distribution gaussienne, est une distribution de probabilité continue qui modélise de nombreux phénomènes physiques, comme par exemple la distributionn des vitesse des partciules d'un gaz, l'anatomie humaine... \n",
    "\n",
    "$$f(x) = \\frac{1}{\\sigma\\sqrt{2\\pi}}e^{-\\frac{1}{2}\\left( \\frac{x-\\mu}{\\sigma} \\right)^2}$$\n",
    "\n",
    "où $\\mu$ est la moyenne de la distribution et $\\sigma$ l'écart type, c.a.d. la variation aléatoire autour de la moyenne .\n",
    "\n",
    "<p>\n",
    "<img src=\"./figure4_TP3.png\" alt width=400 heigth=400>\n",
    "<center>Fig. 4 : Une distribution normale à moyenne nulle mettant en évidence les niveaux d'écart-type autour de la moyenne. (Source Wikipédia). </center>\n",
    "<p>\n"
   ]
  },
  {
   "cell_type": "markdown",
   "id": "c38e3574",
   "metadata": {},
   "source": [
    "- Dans la cellule ci-dessous écrire le code de la fonction de densité de probabilité ci-dessus, en considérant $\\mu=170$ and the standard deviation to be $\\sigma=10$"
   ]
  },
  {
   "cell_type": "code",
   "execution_count": 9,
   "id": "4bb1fa49-4003-4b31-864f-16c0024950c5",
   "metadata": {},
   "outputs": [],
   "source": [
    "def g(x):\n",
    "    sigma = 10\n",
    "    mu = 170\n",
    "    return 1/(sigma*np.sqrt(2*np.pi))*np.exp(-0.5*((x-mu)/sigma)**2)"
   ]
  },
  {
   "cell_type": "markdown",
   "id": "608822ff-2e45-4c5b-aab3-9c1016090fb0",
   "metadata": {},
   "source": [
    "- Quelle la probabilité entre 165 et 175 ?"
   ]
  },
  {
   "cell_type": "code",
   "execution_count": 10,
   "id": "7845d0e8-9bd3-412b-b170-9b0615e88569",
   "metadata": {},
   "outputs": [
    {
     "name": "stdout",
     "output_type": "stream",
     "text": [
      "Intégrale de g(x) : 0.38287801625561063\n"
     ]
    }
   ],
   "source": [
    "print(\"Intégrale de g(x) : \" + str(riemann_trap(g, 165, 175, 1000)))"
   ]
  }
 ],
 "metadata": {
  "kernelspec": {
   "display_name": "Python 3",
   "language": "python",
   "name": "python3"
  },
  "language_info": {
   "codemirror_mode": {
    "name": "ipython",
    "version": 3
   },
   "file_extension": ".py",
   "mimetype": "text/x-python",
   "name": "python",
   "nbconvert_exporter": "python",
   "pygments_lexer": "ipython3",
   "version": "3.12.6"
  }
 },
 "nbformat": 4,
 "nbformat_minor": 5
}
