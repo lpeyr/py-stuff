{
 "cells": [
  {
   "cell_type": "markdown",
   "metadata": {},
   "source": [
    "# <center>ISN1 TD4 - Conditionnelles, boucles et fonctions simples</center>\n",
    "\n",
    "#### Compétences visées\n",
    "- Savoir implémenter une boucle for et une boucle while\n",
    "- Etre capable de choisir le type de boucle approprié\n",
    "- Ecrire un algorithme en langage naturel à partir d'un énoncé et savoir l’implémenter\n",
    "- Ecrire une fonction simple et l’appeler dans un code "
   ]
  },
  {
   "cell_type": "markdown",
   "metadata": {},
   "source": [
    "## Exercice 1 - Mais où est le lapin ? \n",
    "\n",
    "Codez ici votre jeu du lapin du TD3. Vérifiez qu'il fonctionne bien."
   ]
  },
  {
   "cell_type": "code",
   "execution_count": null,
   "metadata": {},
   "outputs": [],
   "source": [
    "from math import sqrt\n",
    "from random import randint\n",
    "\n",
    "\n",
    "def calcul_d(c_l, c_j):\n",
    "    return sqrt((c_l[0]-c_j[0])**2 + (c_l[1]-c_j[1])**2)\n",
    "\n",
    "n = 10\n",
    "\n",
    "c_lapin = (randint(0, n),randint(0, n))\n",
    "c_jou = [0, 0]\n",
    "\n",
    "d = calcul_d(c_lapin, c_jou)\n",
    "\n",
    "while d != 0:\n",
    "    c_jou[0]= int(input(\"Coordonnée x : \\n> \"))\n",
    "    c_jou[1]= int(input(\"Coordonnée y : \\n> \"))\n",
    "    d = calcul_d(c_lapin, c_jou)\n",
    "    print(d)\n",
    "print(f\"Bravo, tu as trouvé le lapin ({c_lapin[0]}, {c_lapin[1]})\")"
   ]
  },
  {
   "cell_type": "markdown",
   "metadata": {},
   "source": [
    "## Exercice 2 - Nombre d'Or\n",
    "Comme vu dans le TD précédent, le nombre d'or $\\phi$ est l'unique solution de l'équation $x^2 = x + 1$. Sa valeur exacte est $\\frac{1+\\sqrt 5}{2}$ soit approximativement 1.618034. Il correspond à la valeur asymptotique de la suite définie comme suit :\n",
    "\n",
    "$$\n",
    "\tu_0 = 1\\\\\n",
    "\tu_{n+1} = 1+\\frac{1}{u_{n}}\n",
    "$$\n",
    "\n",
    "\n",
    "---\n",
    "### Cas 1 : le nombre d'itérations est connu\n",
    "\n",
    "#### Q1. Dans la cellule ci-dessous, écrire votre code issu du TD précédent (Q5.1) pour calculer les `nb_iter` premiers termes de la suite ci-dessus afin d'approximer la valeur de $\\phi$. Vérifiez qu'il fonctionne."
   ]
  },
  {
   "cell_type": "code",
   "execution_count": null,
   "metadata": {},
   "outputs": [],
   "source": [
    "def nb_or(n):\n",
    "    u = 1\n",
    "    for _ in range(1, n + 1):\n",
    "        u = 1 + 1/u\n",
    "    return u\n",
    "\n",
    "print(nb_or(1000))"
   ]
  },
  {
   "cell_type": "markdown",
   "metadata": {},
   "source": [
    "### Q2. Ecrivez une fonction `affiche_convergence_nb_or` qui prend en paramètre les listes `liste_n` des valeurs de n et `liste_un` des valeurs de un et affiche la courbe d'évolution de $un$."
   ]
  },
  {
   "cell_type": "code",
   "execution_count": null,
   "metadata": {},
   "outputs": [],
   "source": [
    "import matplotlib.pyplot as plt\n",
    "def affiche_convergence_nb_or(liste_n, liste_un):\n",
    "    fig, ax = plt.subplots() # Création de la figure (fig) et des axes (ax) de la figure\n",
    "    ax.plot(liste_n, liste_un)           # Création de la courbe sur les axes de la figure\n",
    "\n",
    "    ax.set(xlabel='n', ylabel='u_n', title='')  # Ajout de la légende des axes et d'un titre\n",
    "    plt.show()  # Affichage de la figure "
   ]
  },
  {
   "cell_type": "markdown",
   "metadata": {},
   "source": [
    "### Q3. Modifiez le code de la question 1 afin d'utiliser votre fonction pour afficher la courbe d'évolution de un pour `nb_iter = 30`."
   ]
  },
  {
   "cell_type": "code",
   "execution_count": null,
   "metadata": {},
   "outputs": [],
   "source": [
    "import matplotlib.pyplot as plt\n",
    "def affiche_convergence_nb_or(liste_n, liste_un):\n",
    "    fig, ax = plt.subplots() # Création de la figure (fig) et des axes (ax) de la figure\n",
    "    ax.plot(liste_n, liste_un)           # Création de la courbe sur les axes de la figure\n",
    "\n",
    "    ax.set(xlabel='n', ylabel='u_n', title='')  # Ajout de la légende des axes et d'un titre\n",
    "    plt.show()  # Affichage de la figure \n",
    "\n",
    "def valeur_un(n):\n",
    "    liste_un = []\n",
    "    for i in range(1, n + 1):\n",
    "        liste_un.append(nb_or(i))\n",
    "    return liste_un\n",
    "\n",
    "nb_iter = 30\n",
    "liste_n = range(1, nb_iter + 1)\n",
    "\n",
    "affiche_convergence_nb_or(liste_n, valeur_un(nb_iter))"
   ]
  },
  {
   "cell_type": "markdown",
   "metadata": {},
   "source": [
    "---\n",
    "### Cas 2 : on s'arrête quand on est proche de $\\phi$\n",
    "\n",
    "On souhaite maintenant calculer les termes successifs de la suite jusqu’à ce que la valeur $u_n$ de la suite soit proche à une précision $\\epsilon$ près de la valeur de $\\phi$, c'est-à-dire que la condition suivante soit vraie  : \n",
    "\n",
    "$| u_n − \\phi| < \\epsilon$\n",
    "\n",
    "#### Q2. Écrire un code calculant et affichant les différentes valeurs de la suite jusqu'à convergence (lorsque la condition est vraie) pour une valeur de précision donnée. Tester le code pour différentes précisions (e.g. $10^{−2}$, $10^{−6}$, ...). Plus la précision est petite, plus le résultat doit être proche de la valeur du nombre d'or."
   ]
  },
  {
   "cell_type": "code",
   "execution_count": null,
   "metadata": {},
   "outputs": [],
   "source": [
    "from math import sqrt\n",
    "\n",
    "def approx(epsilon):\n",
    "    i = 1\n",
    "    n_or = (1+sqrt(5))/2\n",
    "    while abs(nb_or(i) - n_or) >= epsilon:\n",
    "        i += 1\n",
    "    return i\n",
    "\n",
    "print(approx(10e-6))"
   ]
  },
  {
   "cell_type": "markdown",
   "metadata": {},
   "source": [
    "---\n",
    "### Cas 3 : on s'arrête quand la suite \"ne bouge plus beaucoup\"\n",
    "\n",
    "On fait maintenant l’hypothèse que l’on ne connaît pas la valeur exacte de $\\phi$. Par contre, une étude approfondie permettrait de montrer que la suite oscille de plus en plus près de sa valeur asymptotique $\\phi$ (on dit que la suite $u_n − \\phi$ est une suite alternée, convergeant asymptotiquement vers 0 et absolument strictement monotone).\n",
    "\n",
    "La condition d'arrêt devient dans ce cas :\n",
    "\n",
    "$|u_n - u_{n-1}| < \\epsilon$\n",
    "\n",
    "#### Q3. Proposez un code réalisant cet objectif pour différentes précisions : $10^{−2}$, $10^{−6}$, etc."
   ]
  },
  {
   "cell_type": "code",
   "execution_count": null,
   "metadata": {},
   "outputs": [],
   "source": [
    "def approx_or(epsilon):\n",
    "    n = 1\n",
    "    while abs(nb_or(n) - nb_or(n-1)) > epsilon:\n",
    "        n += 1\n",
    "    return n, nb_or(n)\n",
    "print(approx_or(1e-6))"
   ]
  },
  {
   "cell_type": "markdown",
   "metadata": {},
   "source": [
    "&nbsp;\n",
    "---\n",
    "---\n",
    "&nbsp;\n",
    "## Exercice 2 - Jeu du nombre secret\n",
    "\n",
    "Ce jeu radiophonique, célèbre dans les années 70, demandait à un maximum de 10 auditeurs au téléphone de deviner un nombre compris entre 1 et 999 de la façon suivante : le premier proposait un nombre et l’animateur répondait \"plus petit\" ou \"plus grand\" selon que le nombre proposé était plus petit ou plus grand que le nombre secret ; le second poursuivait en proposant un autre nombre, en s’aidant de la réponse faite au premier ; le jeu continuait ainsi jusqu’à ce qu’un auditeur trouve le nombre secret, et gagnait alors les 10000 Francs, ou que les 10 auditeurs aient été interrogés, auquel cas personne ne gagnait.\n",
    "\n",
    "#### Q1. Écrire un algorithme de ce jeu en pseudo-code dans lequel le rôle de l'animateur est tenu par l'ordinateur et celui des auditeurs par l'utilisateur. Puis, faites le tester par un de vos camarades.\n",
    "~~~\n",
    "n <- nombre aléatoire positif\n",
    "user <- -1\n",
    "tant que n != user:\n",
    "    user <- demander nombre utilisateur\n",
    "    si user < n:\n",
    "        afficher \"c'est plus\"\n",
    "    sinon si user > n:\n",
    "        afficher \"c'est moins\"\n",
    "afficher \"Vous avez gagné\"\n",
    "~~~"
   ]
  },
  {
   "cell_type": "markdown",
   "metadata": {},
   "source": [
    "---\n",
    "#### Q2. Implémentez votre algorithme en Python\n",
    "\n",
    "<u>Rappel</u> : La fonction `randint` du module [random](https://docs.python.org/3/library/random.html) de la bibliothèque standard Python permet de tirer un nombre entier aléatoire compris entre 2 valeurs données. Allez vérifiez dans la documentation si les bornes sont inclues ou exclues."
   ]
  },
  {
   "cell_type": "code",
   "execution_count": null,
   "metadata": {},
   "outputs": [],
   "source": [
    "from random import randint as rd\n",
    "n = rd(1, 999)\n",
    "user = -1\n",
    "while n != user:\n",
    "    user = int(input(\"Entrez un nombre \\n> \"))\n",
    "    if user < n:\n",
    "        print(\"c'est plus\")\n",
    "    elif user > n:\n",
    "        print(\"c'est moins\")\n",
    "        \n",
    "print(\"Vous avez gagné\")"
   ]
  },
  {
   "cell_type": "markdown",
   "metadata": {},
   "source": [
    "---\n",
    "Il est possible de trouver automatiquement la bonne valeur avec le **principe de dichotomie** : à chaque itération, on coupe l’intervalle en 2 intervalles de tailles égales et on regarde dans quel intervalle se trouve le nombre recherché (en le comparant avec la valeur du milieu), si on n'a pas trouvé la valeur, on fait une nouvelle itération dans lequel le nouvel intervalle est donc la moitié du précédent.\n",
    "\n",
    "#### Q3. Écrivez maintenant le jeu inverse : Écrivez un algorithme en pseudo-code où un humain choisi une valeur entre 1 et 999, puis l'ordinateur cherche la valeur cachée en utilisant le principe de dichotomie. Affichez à la fin le nombre d'itérations nécessaires pour trouver le nombre secret."
   ]
  },
  {
   "cell_type": "markdown",
   "metadata": {},
   "source": [
    "~~~md\n",
    "n <- demander nombre\n",
    "guess <- 500\n",
    "tant que guess != n:\n",
    "    si guess < n:\n",
    "        guess += (guess/2)\n",
    "    sinon si guess > n:\n",
    "        guess -= (guess/2)\n",
    "    afficher guess\n",
    "afficher \"le nombre est : \"\n",
    "~~~"
   ]
  },
  {
   "cell_type": "markdown",
   "metadata": {
    "tags": []
   },
   "source": [
    "---\n",
    "#### Q4. Implémentez votre algorithme et vérifiez qu'il fonctionne correctement"
   ]
  },
  {
   "cell_type": "code",
   "execution_count": 74,
   "metadata": {},
   "outputs": [
    {
     "name": "stdout",
     "output_type": "stream",
     "text": [
      "nombre \n",
      "> 220\n",
      "Proposition : 500\n",
      "0 1000\n",
      "Proposition : 249\n",
      "0 499\n",
      "Proposition : 124\n",
      "0 248\n",
      "Proposition : 186\n",
      "125 248\n",
      "Proposition : 217\n",
      "187 248\n",
      "Proposition : 233\n",
      "218 248\n",
      "Proposition : 225\n",
      "218 232\n",
      "Proposition : 221\n",
      "218 224\n",
      "Proposition : 219\n",
      "218 220\n",
      "Proposition : 220\n",
      "220 220\n",
      "Le nombre est : 220\n"
     ]
    }
   ],
   "source": [
    "n = int(input(\"nombre \\n> \"))\n",
    "a = 0\n",
    "b = 1000\n",
    "while a <= b:\n",
    "    guess = (a + b) // 2\n",
    "    print(f\"Proposition : {guess}\")\n",
    "    print(a,b)\n",
    "    if guess < n:\n",
    "        a = guess + 1\n",
    "    elif guess > n:\n",
    "        b = guess - 1\n",
    "    else:\n",
    "        print(f\"Le nombre est : {guess}\")\n",
    "        break\n",
    "else:\n",
    "    print(\"Le nombre n'a pas été trouvé.\")"
   ]
  },
  {
   "cell_type": "markdown",
   "metadata": {},
   "source": [
    "&nbsp;\n",
    "---\n",
    "---\n",
    "\n",
    "# Devoirs pour la prochaine séance\n",
    "### Faire l'exercice 1 du TD5 sur papier"
   ]
  },
  {
   "cell_type": "markdown",
   "metadata": {},
   "source": [
    "&nbsp;\n",
    "---\n",
    "---\n",
    "# Pour s'entrainer\n",
    "\n",
    "## Exercice A - Suite de Syracuse\n",
    "\n",
    "On considère la **suite de Syracuse**, définie par la relation de récurrence suivante :\n",
    "\n",
    "\\begin{equation*}\n",
    "u_{n+1} = \\left\\{ \\begin{array}{ll}\n",
    "\\frac{u_n}{2}, & (\\text{si $u_n$ est pair}) \\\\\n",
    "3 u_{n} +1, & (\\text{si $u_n$ est impair})\n",
    "\\end{array} \\right.\n",
    "\\end{equation*}\n",
    "\n",
    "Il a été trouvé expérimentalement (mais jamais démontré) que, pour $n$ suffisamment grand, $u_n$ oscille entre les valeurs 1, 4 et 2. Cette propriété semble vraie pour tout entier strictement positif $u_0$ (on dit que le bassin d’attraction de l’orbite périodique $1 \\rightarrow 4 \\rightarrow 2$ est $\\mathbb N^\\star$).\n",
    "\n",
    "#### Q1. Proposez la fonction `syracuse_suiv` qui permet de calculer $u_{n+1}$ à partir de $u_n$."
   ]
  },
  {
   "cell_type": "code",
   "execution_count": 96,
   "metadata": {},
   "outputs": [],
   "source": [
    "def syracuse_suiv(u_n):\n",
    "    r = 0\n",
    "    if u_n % 2 == 0:\n",
    "        r = u_n / 2\n",
    "    else:\n",
    "        r = 3*u_n + 1\n",
    "    return r\n",
    "\n",
    "nb_iter = 100\n",
    "u = 50\n",
    "liste = [u]\n",
    "for _ in range(nb_iter):\n",
    "    u = syracuse_suiv(u)\n",
    "    liste.append(u)"
   ]
  },
  {
   "cell_type": "markdown",
   "metadata": {},
   "source": [
    "#### Q2. Proposez un code qui calcule et affiche les `nb_iter` premiers termes de la suite de Syracuse. On posera $u_0 = 50$. Vous testerez le programme pour différentes valeurs de `nb_iter`."
   ]
  },
  {
   "cell_type": "code",
   "execution_count": null,
   "metadata": {},
   "outputs": [],
   "source": []
  },
  {
   "cell_type": "markdown",
   "metadata": {},
   "source": [
    "### Q3. Modifiez votre code précédent afin d'afficher l'évolution de la suite de Syracuse en fonction des itérations. Vous devez observer l'oscillation entre les trois valeurs 1, 4, 2."
   ]
  },
  {
   "cell_type": "markdown",
   "metadata": {},
   "source": [
    "#### Q3. Proposez un code qui calcule et affiche les termes de la suite de Syracuse jusqu'à obtenir 1. On posera encore $u_0 = 50$."
   ]
  },
  {
   "cell_type": "code",
   "execution_count": 97,
   "metadata": {},
   "outputs": [
    {
     "data": {
      "image/png": "[encoded data removed]",
      "text/plain": [
       "<Figure size 640x480 with 1 Axes>"
      ]
     },
     "metadata": {},
     "output_type": "display_data"
    }
   ],
   "source": [
    "def affiche_syracuse(liste):\n",
    "    fig, ax = plt.subplots() # Création de la figure (fig) et des axes (ax) de la figure\n",
    "    ax.plot(list(range(0, nb_iter + 1)), liste)           # Création de la courbe sur les axes de la figure\n",
    "\n",
    "    ax.set(xlabel='n', ylabel='u_n', title='')  # Ajout de la légende des axes et d'un titre\n",
    "    plt.show()  # Affichage de la figure \n",
    "\n",
    "affiche_syracuse(liste)"
   ]
  },
  {
   "cell_type": "code",
   "execution_count": null,
   "metadata": {},
   "outputs": [],
   "source": []
  },
  {
   "cell_type": "code",
   "execution_count": null,
   "metadata": {},
   "outputs": [],
   "source": []
  }
 ],
 "metadata": {
  "kernelspec": {
   "display_name": "Python 3 (ipykernel)",
   "language": "python",
   "name": "python3"
  },
  "language_info": {
   "codemirror_mode": {
    "name": "ipython",
    "version": 3
   },
   "file_extension": ".py",
   "mimetype": "text/x-python",
   "name": "python",
   "nbconvert_exporter": "python",
   "pygments_lexer": "ipython3",
   "version": "3.9.18"
  }
 },
 "nbformat": 4,
 "nbformat_minor": 4
}
