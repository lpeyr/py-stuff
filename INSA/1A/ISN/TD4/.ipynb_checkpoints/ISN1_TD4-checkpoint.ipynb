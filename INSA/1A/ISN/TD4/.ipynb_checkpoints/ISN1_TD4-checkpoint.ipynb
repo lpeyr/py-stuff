{
 "cells": [
  {
   "cell_type": "markdown",
   "metadata": {},
   "source": [
    "# <center>ISN1 TD4 - Conditionnelles, boucles et fonctions simples</center>\n",
    "\n",
    "#### Compétences visées\n",
    "- Savoir implémenter une boucle for et une boucle while\n",
    "- Etre capable de choisir le type de boucle approprié\n",
    "- Ecrire un algorithme à partir d'un énoncé"
   ]
  },
  {
   "cell_type": "markdown",
   "metadata": {},
   "source": [
    "## Exercice 1 - Nombre d'Or\n",
    "Comme vu dans le TD précédent, le nombre d'or $\\phi$ est l'unique solution de l'équation $x^2 = x + 1$. Sa valeur exacte est $\\frac{1+\\sqrt 5}{2}$ soit approximativement 1.618034. Il correspond à la valeur asymptotique de la suite définie comme suit :\n",
    "\n",
    "$$\n",
    "\tu_0 = 1\\\\\n",
    "\tu_{n+1} = 1+\\frac{1}{u_{n}}\n",
    "$$\n",
    "\n",
    "\n",
    "---\n",
    "### Cas 1 : le nombre d'itérations est connu\n",
    "\n",
    "#### Q1. Dans la cellule ci-dessous, écrire votre code issu du TD précédent (Q5.1) pour calculer les `nb_iter` premiers termes de la suite ci-dessus afin d'approximer la valeur de $\\phi$."
   ]
  },
  {
   "cell_type": "code",
   "execution_count": 1,
   "metadata": {},
   "outputs": [
    {
     "name": "stdout",
     "output_type": "stream",
     "text": [
      "1.618033988749895\n"
     ]
    }
   ],
   "source": [
    "def nb_or(n):\n",
    "    u = 1\n",
    "    for _ in range(1, n + 1):\n",
    "        u = 1 + 1/u\n",
    "    return u\n",
    "\n",
    "print(nb_or(1000))"
   ]
  },
  {
   "cell_type": "markdown",
   "metadata": {},
   "source": [
    "---\n",
    "### Cas 2 : on s'arrête quand on est proche de $\\phi$\n",
    "\n",
    "On souhaite maintenant calculer les termes successifs de la suite jusqu’à ce que la valeur $u_n$ de la suite soit proche à une précision $\\epsilon$ près de la valeur de $\\phi$, c'est-à-dire que la condition suivante soit vraie  : \n",
    "\n",
    "$| u_n − \\phi| < \\epsilon$\n",
    "\n",
    "#### Q2. Écrire un code calculant et affichant les différentes valeurs de la suite jusqu'à convergence (lorsque la condition est vraie) pour une valeur de précision donnée. Tester le code pour différentes précisions (e.g. $10^{−2}$, $10^{−6}$, ...). Plus la précision est petite, plus le résultat doit être proche de la valeur du nombre d'or."
   ]
  },
  {
   "cell_type": "code",
   "execution_count": null,
   "metadata": {},
   "outputs": [],
   "source": [
    "from math import sqrt\n",
    "d\n",
    "nb_or = (1+sqrt(5)) / 2\n"
   ]
  },
  {
   "cell_type": "markdown",
   "metadata": {},
   "source": [
    "---\n",
    "### Cas 3 : on s'arrête quand la suite \"ne bouge plus beaucoup\"\n",
    "\n",
    "On fait maintenant l’hypothèse que l’on ne connaît pas la valeur exacte de $\\phi$. Par contre, une étude approfondie permettrait de montrer que la suite oscille de plus en plus près de sa valeur asymptotique $\\phi$ (on dit que la suite $u_n − \\phi$ est une suite alternée, convergeant asymptotiquement vers 0 et absolument strictement monotone).\n",
    "\n",
    "La condition d'arrêt devient dans ce cas :\n",
    "\n",
    "$|u_n - u_{n-1}| < \\epsilon$\n",
    "\n",
    "#### Q3. Proposez un code réalisant cet objectif pour différentes précisions : $10^{−2}$, $10^{−6}$, etc."
   ]
  },
  {
   "cell_type": "code",
   "execution_count": null,
   "metadata": {},
   "outputs": [],
   "source": []
  },
  {
   "cell_type": "markdown",
   "metadata": {},
   "source": [
    "&nbsp;\n",
    "---\n",
    "---\n",
    "&nbsp;\n",
    "## Exercice 2 - Jeu du nombre secret\n",
    "\n",
    "Ce jeu radiophonique, célèbre dans les années 70, demandait à un maximum de 10 auditeurs au téléphone de deviner un nombre compris entre 1 et 999 de la façon suivante : le premier proposait un nombre et l’animateur répondait \"plus petit\" ou \"plus grand\" selon que le nombre proposé était plus petit ou plus grand que le nombre secret ; le second poursuivait en proposant un autre nombre, en s’aidant de la réponse faite au premier ; le jeu continuait ainsi jusqu’à ce qu’un auditeur trouve le nombre secret, et gagnait alors les 10000 Francs, ou que les 10 auditeurs aient été interrogés, auquel cas personne ne gagnait.\n",
    "\n",
    "#### Q1. Écrire un algorithme de ce jeu en langage naturel et faites le tester par un de vos camarades."
   ]
  },
  {
   "cell_type": "code",
   "execution_count": null,
   "metadata": {},
   "outputs": [],
   "source": []
  },
  {
   "cell_type": "markdown",
   "metadata": {},
   "source": [
    "---\n",
    "#### Q2. Proposez un code permettant de jouer à ce jeu dans lequel le rôle de l'animateur est tenu par l'ordinateur et celui des auditeurs par l'utilisateur.\n",
    "\n",
    "<u>Rappel</u> : La fonction `randint` du module [random](https://docs.python.org/3/library/random.html) de la bibliothèque standard Python permet de tirer un nombre entier aléatoire compris entre 2 valeurs données."
   ]
  },
  {
   "cell_type": "code",
   "execution_count": null,
   "metadata": {},
   "outputs": [],
   "source": []
  },
  {
   "cell_type": "markdown",
   "metadata": {},
   "source": [
    "---\n",
    "Il est possible de trouver automatiquement la bonne valeur avec le **principe de dichotomie** : à chaque itération, on coupe l’intervalle en 2 intervalles de tailles égales et on regarde dans quel intervalle se trouve le nombre recherché (en le comparant avec la valeur du milieu), si on n'a pas trouvé la valeur, on fait une nouvelle itération dans lequel le nouvel intervalle est donc la moitié du précédent.\n",
    "\n",
    "#### Q3. Écrivez maintenant le jeu inverse : Écrivez un algorithme en langage naturel où un humain choisi une valeur entre 1 et 999, puis l'ordinateur cherche la valeur cachée en utilisant le principe de dichotomie. Affichez à la fin le nombre d'itérations nécessaires pour trouver le nombre secret."
   ]
  },
  {
   "cell_type": "code",
   "execution_count": null,
   "metadata": {},
   "outputs": [],
   "source": []
  },
  {
   "cell_type": "markdown",
   "metadata": {
    "tags": []
   },
   "source": [
    "---\n",
    "#### Q4. Implémentez votre algorithme et vérifiez qu'il fonctionne correctement"
   ]
  },
  {
   "cell_type": "code",
   "execution_count": null,
   "metadata": {},
   "outputs": [],
   "source": []
  },
  {
   "cell_type": "markdown",
   "metadata": {},
   "source": [
    "&nbsp;\n",
    "---\n",
    "---\n",
    "# Pour s'entrainer\n",
    "\n",
    "## Exercice A - Suite de Syracuse\n",
    "\n",
    "On considère la **suite de Syracuse**, définie par la relation de récurrence suivante :\n",
    "\n",
    "\\begin{equation*}\n",
    "u_{n+1} = \\left\\{ \\begin{array}{ll}\n",
    "\\frac{u_n}{2}, & (\\text{si $u_n$ est pair}) \\\\\n",
    "3 u_{n} +1, & (\\text{si $u_n$ est impair})\n",
    "\\end{array} \\right.\n",
    "\\end{equation*}\n",
    "\n",
    "Il a été trouvé expérimentalement (mais jamais démontré) que, pour $n$ suffisamment grand, $u_n$ oscille entre les valeurs 1, 4 et 2. Cette propriété semble vraie pour tout entier strictement positif $u_0$ (on dit que le bassin d’attraction de l’orbite périodique $1 \\rightarrow 4 \\rightarrow 2$ est $\\mathbb N^\\star$).\n",
    "\n",
    "#### Q1. Proposez la fonction `syracuse_suiv` qui permet de calculer $u_{n+1}$ à partir de $u_n$."
   ]
  },
  {
   "cell_type": "code",
   "execution_count": null,
   "metadata": {},
   "outputs": [],
   "source": []
  },
  {
   "cell_type": "markdown",
   "metadata": {},
   "source": [
    "#### Q2. Proposez un code qui calcule et affiche les `nb_iter` premiers termes de la suite de Syracuse. On posera $u_0 = 50$. Vous testerez le programme pour différentes valeurs de `nb_iter`."
   ]
  },
  {
   "cell_type": "code",
   "execution_count": null,
   "metadata": {},
   "outputs": [],
   "source": []
  },
  {
   "cell_type": "markdown",
   "metadata": {},
   "source": [
    "#### Q3. Proposez un code qui calcule et affiche les termes de la suite de Syracuse jusqu'à obtenir 1. On posera encore $u_0 = 50$."
   ]
  },
  {
   "cell_type": "code",
   "execution_count": null,
   "metadata": {},
   "outputs": [],
   "source": []
  }
 ],
 "metadata": {
  "kernelspec": {
   "display_name": "Python 3 (ipykernel)",
   "language": "python",
   "name": "python3"
  },
  "language_info": {
   "codemirror_mode": {
    "name": "ipython",
    "version": 3
   },
   "file_extension": ".py",
   "mimetype": "text/x-python",
   "name": "python",
   "nbconvert_exporter": "python",
   "pygments_lexer": "ipython3",
   "version": "3.10.12"
  }
 },
 "nbformat": 4,
 "nbformat_minor": 4
}
