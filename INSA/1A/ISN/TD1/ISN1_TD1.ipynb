{
 "cells": [
  {
   "cell_type": "markdown",
   "id": "e810d398",
   "metadata": {},
   "source": [
    "# <center>ISN1 TD1 - Introduction Python<center>"
   ]
  },
  {
   "cell_type": "markdown",
   "id": "50735952",
   "metadata": {},
   "source": [
    "L'objectif de ce TD est de lire et écrire des programmes [Python](https://docs.python.org/fr/3/reference/) simples et de prendre en main l'environnement [Jupyter Notebook](https://jupyter.org/).\n",
    "\n",
    "#### Compétences visées\n",
    "- Déclarer et initialiser des variables de type numérique (entier, flottant...)\n",
    "- Afficher des chaînes de caractères simples et contenant des expressions avec une \"fstring\"\n",
    "- Manipuler des listes\n",
    "- Évaluer des expressions numériques (et booléennes) en tenant compte des priorités entre opérateurs en Python\n",
    "- Importer une fonction du module math\n",
    "\n",
    "#### Diapos de support au TD :\n",
    "- [Diapos moodle](https://moodle.insa-lyon.fr/mod/resource/view.php?id=199445)"
   ]
  },
  {
   "cell_type": "markdown",
   "id": "96381d07",
   "metadata": {},
   "source": [
    "---\n",
    "***\n",
    "# Exercice 1 - Lecture de programmes\n",
    "\n",
    "Avant de commencer, activez l'affichage des numéros de ligne: dans le menu <b>\"Voir/Affichage\"</b> (ou <b>\"View\"</b>), cliquez sur <b>\"Afficher/cacher les numéros de ligne\"</b> (ou <b>\"Toggle line numbers\"</b>).\n",
    "\n",
    "### Partie 1\n",
    "\n",
    "<u>Notions</u> : séquence d'instructions, variable, affectation, expression numérique, `print`, `print(f\"...\")`, appel de fonction\n"
   ]
  },
  {
   "cell_type": "markdown",
   "id": "0602dd4a",
   "metadata": {},
   "source": [
    "#### Q1. Lisez le code suivant et commentez chaque ligne en indiquant ce qu'elle fait et le résultat d'affichage le cas échéant. Attention, vous ne devez pas exécuter la cellule"
   ]
  },
  {
   "cell_type": "code",
   "execution_count": 1,
   "id": "d338aba6-ba2c-4e91-aa0a-ebe4b3bbae76",
   "metadata": {
    "tags": []
   },
   "outputs": [
    {
     "name": "stdout",
     "output_type": "stream",
     "text": [
      "Résultat :\n",
      "26\n",
      "L'image de 8 par la fonction f(x) = 3x+2 est 26\n",
      "L'image de 8 par la fonction g(x) = 3x^2 est 192\n"
     ]
    }
   ],
   "source": [
    "# Définit la variable x et lui assigne la valeur 8\n",
    "x = 8 \n",
    "\n",
    "# Définit la variable fx et lui assigne le résultat de l'opération 3x+2, avec x la variable précedemment définie\n",
    "fx = 3*x + 2 \n",
    "\n",
    "# Affiche \"Résultat :\" dans la console\n",
    "print(\"Résultat :\") \n",
    "\n",
    "# Affiche la valeur de fx dans la console (26)\n",
    "print(fx) \n",
    "\n",
    "# Le message ci-dessous est affichée dans la console, les expressions {x} et {fx} étant remplacées par leurs valeurs respectives : \n",
    "# L'image de 8 par la fonction f(x) = 3x+2 est 26\n",
    "\n",
    "print(f\"L'image de {x} par la fonction f(x) = 3x+2 est {fx}\" )\n",
    "\n",
    "# Définit la variable gx et lui assigne le résultat de l'opération 3x^2\n",
    "gx = 3 * x**2 \n",
    "\n",
    "# Affiche le message ci-dessous dans la console, les expressions {x} et {gx} étant remplacées par leurs valeurs respectives : \n",
    "# L'image de 8 par la fonction g(x) = 3x^2 est 192\n",
    "\n",
    "print(f\"L'image de {x} par la fonction g(x) = 3x^2 est {gx}\" )\n"
   ]
  },
  {
   "cell_type": "markdown",
   "id": "27666292-b964-442c-9a39-1001b39054d6",
   "metadata": {},
   "source": [
    "#### Q2. Exécutez la cellule de code précédente et comparez le résultat avec ce que vous aviez prédit"
   ]
  },
  {
   "cell_type": "markdown",
   "id": "959c2b9d",
   "metadata": {},
   "source": [
    "#### Q3. Prédire le résultat de l'exécution des cellules ci-dessous sans les exécuter. Vérifiez une fois prédit"
   ]
  },
  {
   "cell_type": "code",
   "execution_count": 2,
   "id": "d71cb0ab",
   "metadata": {},
   "outputs": [
    {
     "name": "stdout",
     "output_type": "stream",
     "text": [
      "2\n"
     ]
    },
    {
     "ename": "NameError",
     "evalue": "name 'y' is not defined",
     "output_type": "error",
     "traceback": [
      "\u001b[1;31m---------------------------------------------------------------------------\u001b[0m",
      "\u001b[1;31mNameError\u001b[0m                                 Traceback (most recent call last)",
      "Cell \u001b[1;32mIn[2], line 3\u001b[0m\n\u001b[0;32m      1\u001b[0m x \u001b[38;5;241m=\u001b[39m \u001b[38;5;241m2\u001b[39m\n\u001b[0;32m      2\u001b[0m \u001b[38;5;28mprint\u001b[39m(x) \u001b[38;5;66;03m#2\u001b[39;00m\n\u001b[1;32m----> 3\u001b[0m x \u001b[38;5;241m=\u001b[39m x \u001b[38;5;241m+\u001b[39m \u001b[43my\u001b[49m\n\u001b[0;32m      4\u001b[0m \u001b[38;5;28mprint\u001b[39m(x) \u001b[38;5;66;03m# erreur, y non défini\u001b[39;00m\n",
      "\u001b[1;31mNameError\u001b[0m: name 'y' is not defined"
     ]
    }
   ],
   "source": [
    "x = 2\n",
    "print(x) #2\n",
    "x = x + y\n",
    "print(x) # erreur, y non défini"
   ]
  },
  {
   "cell_type": "code",
   "execution_count": 3,
   "id": "aef82424",
   "metadata": {},
   "outputs": [
    {
     "ename": "TypeError",
     "evalue": "unsupported operand type(s) for +: 'int' and 'str'",
     "output_type": "error",
     "traceback": [
      "\u001b[1;31m---------------------------------------------------------------------------\u001b[0m",
      "\u001b[1;31mTypeError\u001b[0m                                 Traceback (most recent call last)",
      "Cell \u001b[1;32mIn[3], line 1\u001b[0m\n\u001b[1;32m----> 1\u001b[0m x \u001b[38;5;241m=\u001b[39m \u001b[38;5;241m3\u001b[39m \u001b[38;5;241m+\u001b[39m \u001b[38;5;124m\"\u001b[39m\u001b[38;5;124m4\u001b[39m\u001b[38;5;124m\"\u001b[39m\n\u001b[0;32m      2\u001b[0m \u001b[38;5;28mprint\u001b[39m(x)\n",
      "\u001b[1;31mTypeError\u001b[0m: unsupported operand type(s) for +: 'int' and 'str'"
     ]
    }
   ],
   "source": [
    "x = 3 + \"4\"\n",
    "print(x) # erreur de type"
   ]
  },
  {
   "cell_type": "code",
   "execution_count": 4,
   "id": "97c6d3c1",
   "metadata": {},
   "outputs": [
    {
     "name": "stdout",
     "output_type": "stream",
     "text": [
      "le prix est {res} euros\n"
     ]
    }
   ],
   "source": [
    "res = 10\n",
    "print(\"le prix est {res} euros\") # le prix est {res} euros"
   ]
  },
  {
   "cell_type": "markdown",
   "id": "d3f5bd03-2827-4325-a1df-0d572e26edd0",
   "metadata": {},
   "source": [
    "\n",
    "#### Q4. Effectuez les modifications suivantes dans la cellule ci-dessous, et vérifier les résultats\n",
    "- Affectez la valeur 4 à la variable `x`\n",
    "- Changez la définition de `fx` pour l'expression numérique $\\dfrac{3 - x}{2}$ et `gx` pour $|2x - x^2|$ (cf [abs()](https://docs.python.org/fr/3/library/functions.html#abs))\n",
    "\n",
    "Affichage attendu:\n",
    "\n",
    "`L'image de 4 par la fonction f(x) est -0.5`  \n",
    "`L'image de 4 par la fonction g(x) est 8`  "
   ]
  },
  {
   "cell_type": "code",
   "execution_count": 12,
   "id": "d9e2a358-c613-43dd-a711-9f4ea79c3c94",
   "metadata": {},
   "outputs": [
    {
     "name": "stdout",
     "output_type": "stream",
     "text": [
      "Résultat :\n",
      "-0.5\n",
      "L'image de 4 par la fonction f(x) est -0.5\n",
      "L'image de 4 par la fonction g(x) est 8\n"
     ]
    }
   ],
   "source": [
    "x = 4\n",
    "fx = (3-x)/2\n",
    "print(\"Résultat :\") \n",
    "print(fx) \n",
    "\n",
    "print(f\"L'image de {x} par la fonction f(x) est {fx}\" )\n",
    "\n",
    "gx = abs(2*x-x**2) \n",
    "print(f\"L'image de {x} par la fonction g(x) est {gx}\" )"
   ]
  },
  {
   "cell_type": "markdown",
   "id": "fa8b7c4c",
   "metadata": {},
   "source": [
    "#### Q5. Répondez aux questions suivantes:\n",
    "\n",
    "Dans le programme précédent :\n",
    "\n",
    "1. Quelles sont les VARIABLES ? \n",
    "x, fx et gx"
   ]
  },
  {
   "cell_type": "markdown",
   "id": "150dd186",
   "metadata": {},
   "source": [
    "2. Citez des EXPRESSIONS numériques présentes.\n",
    "(3-x)/2 ; abs(2*x-x**2) "
   ]
  },
  {
   "cell_type": "markdown",
   "id": "44c11ada",
   "metadata": {},
   "source": [
    "3. Quels sont les OPERATEURS arithmétiques utilisés ?\n",
    "-, *, /, **"
   ]
  },
  {
   "cell_type": "markdown",
   "id": "9f986f2b",
   "metadata": {},
   "source": [
    "4. Quelles sont les lignes où sont réalisées des AFFECTATIONS ? \n",
    "1, 2, 8"
   ]
  },
  {
   "cell_type": "markdown",
   "id": "d56e7fb0",
   "metadata": {},
   "source": [
    "5. Quelle(s) fonction(s) sont utilisées ? \n",
    "`print` et `abs`"
   ]
  },
  {
   "cell_type": "markdown",
   "id": "b032fe1c",
   "metadata": {},
   "source": [
    "6. Donner un exemple de fstring: \n",
    "`f\"L'image de {x} par la fonction g(x) est {gx}\"`"
   ]
  },
  {
   "cell_type": "markdown",
   "id": "ac2067d3-70da-4319-b0bc-0ce8d284ef02",
   "metadata": {
    "tags": []
   },
   "source": [
    "---\n",
    "\n",
    "### Partie 2\n",
    "<u>Notions</u> : expression numérique, expression booléenne\n",
    "\n",
    "#### Q6. Sans exécuter le code, déterminer le type de chacune des 5 expressions suivantes (numérique ou booléenne)"
   ]
  },
  {
   "cell_type": "code",
   "execution_count": 13,
   "id": "31e83f57-d9f7-4e1e-b1a7-5d9757ccb2b4",
   "metadata": {
    "tags": []
   },
   "outputs": [
    {
     "name": "stdout",
     "output_type": "stream",
     "text": [
      "9 False False 3.0 True\n"
     ]
    }
   ],
   "source": [
    "x = 5\n",
    "y = 2\n",
    "z = True\n",
    "\n",
    "exp1 = x + 2**y # numérique, 9\n",
    "exp2 = y > x # booléenne, False\n",
    "exp3 = z and y > x # bool, False\n",
    "exp4 = y + 2 / 2 # numérique, 3\n",
    "exp5 = z or False and x == y # bool, False\n",
    "\n",
    "print(exp1, exp2, exp3, exp4, exp5)"
   ]
  },
  {
   "cell_type": "markdown",
   "id": "9a084642",
   "metadata": {},
   "source": [
    "#### Q7. Toujours sans exécuter le code, évaluer les expressions précédentes. Vérifier ensuite le résultat en l'exécutant. Que pouvez-vouz conclure sur l'ordre de priorités des opérateurs?\n",
    "Les règles de priorité sur les opérateurs arithmétiques sont les mêmes qu'en mathématiques. Le \"and\" semble prioritaire par rapport au \"or\""
   ]
  },
  {
   "cell_type": "markdown",
   "id": "3a9dab17",
   "metadata": {},
   "source": [
    "---\n",
    "### Partie 3\n",
    "<u>Notions</u> : affichage de liste, accès/ajout/modificaton d'un élément dans une liste\n",
    "\n",
    "#### Q8. Lisez le code suivant et commentez chaque ligne en indiquant ce qu'elle fait et le résultat d'affichage le cas échéant. Attention, vous ne devez pas exécuter la cellule\n",
    "\n",
    "#### Q9. Exécutez la cellule et comparez le résultat avec ce que vous aviez prédit"
   ]
  },
  {
   "cell_type": "code",
   "execution_count": 14,
   "id": "c1ba738a",
   "metadata": {},
   "outputs": [
    {
     "name": "stdout",
     "output_type": "stream",
     "text": [
      "[10, 9, 12, 15, 24, 27, 30, 29]\n",
      "10\n",
      "[10, 9, 12, 15, 24, 27, 30, 29, 21]\n"
     ]
    }
   ],
   "source": [
    "# Liste des moyennes de températures relevées à Lyon  janvier 2022 - aout 2022\n",
    "# Définit une liste contenant les températures relevées à Lyon entre janvier et août 2022\n",
    "l_temp = [10, 9, 12, 15, 24, 27, 30, 29]\n",
    "\n",
    "# Affiche le contenu de la liste\n",
    "print(l_temp)\n",
    "\n",
    "# Ajoute 20 à la fin de la liste\n",
    "l_temp.append(20) \n",
    "\n",
    "# Affiche le premier élément de la liste (10)\n",
    "print(l_temp[0])\n",
    "\n",
    "# Assigne 21 au 9ème élément de la liste, i.e. le dernier\n",
    "l_temp[8] = 21\n",
    "\n",
    "# Affiche [10, 9, 12, 15, 24, 27, 30, 29, 21]\n",
    "print(l_temp)\n"
   ]
  },
  {
   "cell_type": "markdown",
   "id": "7509f7d9",
   "metadata": {},
   "source": [
    "#### Q10. Répondez aux questions suivantes :\n",
    "\n",
    "Dans le programme précédent :\n",
    "\n",
    "1. À quelle ligne une VARIABLE de type LISTE est-elle définie ? l.3"
   ]
  },
  {
   "cell_type": "markdown",
   "id": "c0e1ee9b",
   "metadata": {},
   "source": [
    "2. À quelle ligne une valeur est-elle AJOUTEE à la liste ? \n",
    "l.9"
   ]
  },
  {
   "cell_type": "markdown",
   "id": "f3b3d5aa",
   "metadata": {},
   "source": [
    "3. Quelle(s) ligne(s) modifie(nt) le contenu de la liste ? \n",
    "l.15 modifie le contenu sans modifier la taille de la liste, l.9 modifie la liste en ajoutant un élément à la fin."
   ]
  },
  {
   "cell_type": "markdown",
   "id": "65dc06d8",
   "metadata": {},
   "source": [
    "&nbsp;\n",
    "---\n",
    "---\n",
    "&nbsp;\n",
    "# Exercice 2 : Écriture de code\n",
    "\n",
    "<u> Notion </u> : affectation, expression numérique, définition et accès à un élément d'une liste\n"
   ]
  },
  {
   "cell_type": "markdown",
   "id": "3aaec132",
   "metadata": {},
   "source": [
    "Soit le polynôme : $3 x^2 + 4 x + 1$.\n",
    "\n",
    "#### Q1. Écrivez le code permettant de calculer et afficher la valeur de ce polynôme pour une valeur x donnée. Votre programme doit définir et utiliser la variable `x`\n",
    "\n",
    "Par exemple, pour la valeur 0, votre programme doit afficher :\n",
    "\n",
    "`La valeur du polynome en 0 est : 1`"
   ]
  },
  {
   "cell_type": "code",
   "execution_count": 15,
   "id": "60aaff39-770f-4d0c-bc57-a636a2bab11a",
   "metadata": {},
   "outputs": [
    {
     "name": "stdout",
     "output_type": "stream",
     "text": [
      "La valeur du polynôme en 0 est : 1\n"
     ]
    }
   ],
   "source": [
    "# Ecrire ici\n",
    "x = 0\n",
    "p=3*x**2+4*x+1\n",
    "print(f\"La valeur du polynôme en {x} est : {p}\")"
   ]
  },
  {
   "cell_type": "markdown",
   "id": "7fba19c6",
   "metadata": {},
   "source": [
    "&nbsp;&nbsp;\n",
    "\n",
    "On représente un polynome du second degré par la liste de ses coefficients. Par exemple, le polynome $3 x^2 + 4 x + 1$ est représenté par la liste : `[3, 4, 1]`.\n",
    "\n",
    "#### Q2. Écrivez le code permettant de calculer et afficher la valeur du polynôme pour une valeur x donnée en tenant compte de cette représentation du polynome. En particulier vous devrez créer et utiliser une liste `poly` contenant la liste des coefficients"
   ]
  },
  {
   "cell_type": "code",
   "execution_count": 16,
   "id": "0953ae5b-7dfe-4cf5-a674-d9addd4dbd1a",
   "metadata": {},
   "outputs": [
    {
     "name": "stdout",
     "output_type": "stream",
     "text": [
      "La valeur du polynôme en 0 est : 1\n"
     ]
    }
   ],
   "source": [
    "# Ecrire ici\n",
    "poly = [3, 4, 1]\n",
    "x = 0\n",
    "res=poly[0]*x**2+poly[1]*x+poly[2]\n",
    "print(f\"La valeur du polynôme en {x} est : {res}\")"
   ]
  },
  {
   "cell_type": "markdown",
   "id": "bd3c66c9",
   "metadata": {},
   "source": [
    "&nbsp;\n",
    "\n",
    "---\n",
    "&nbsp;\n",
    "\n",
    "# Exercice 3 - Importation de module\n",
    "\n",
    "## Partie 1\n",
    "<u> Notion </u> : Lecture d'erreur et importation de module\n"
   ]
  },
  {
   "cell_type": "markdown",
   "id": "b8ca2053-1ef2-478a-af51-ad88b4c4a0a0",
   "metadata": {
    "tags": []
   },
   "source": [
    "#### Q1. Exécutez la cellule suivante et essayez de comprendre l'erreur qui s'affiche. Puis, corrigez le programme pour qu'il fonctionne correctement"
   ]
  },
  {
   "cell_type": "code",
   "execution_count": 22,
   "id": "f8a77a5a",
   "metadata": {
    "scrolled": true
   },
   "outputs": [
    {
     "name": "stdout",
     "output_type": "stream",
     "text": [
      "Pour les longueurs 5 cm et 22 cm l'hypothénuse vaut : 22.56 cm\n"
     ]
    }
   ],
   "source": [
    "from math import sqrt\n",
    "longueur_1 = 5\n",
    "longueur_2 = 22\n",
    "hypotenuse = sqrt(longueur_1**2 + longueur_2**2)\n",
    "\n",
    "print(f\"Pour les longueurs {longueur_1} cm et {longueur_2} cm l'hypothénuse vaut : {hypotenuse:.2f} cm\")"
   ]
  },
  {
   "cell_type": "markdown",
   "id": "4da14fb3-6cce-4eb3-989d-fcbc88f3312d",
   "metadata": {},
   "source": [
    "## Partie 2\n",
    "\n",
    "<u> Notion </u> : lecture de documentation et utilisation de fonctions du module [math](https://docs.python.org/fr/3/library/math.html).\n",
    "\n",
    "Soit les fonctions suivantes:\n",
    "\n",
    "$$ f(x) = \\frac{\\mathrm{exp}(x^2)}{5} $$\n",
    "&nbsp;\n",
    "$$ g(x) = \\cos(\\pi x)$$\n",
    "\n",
    "Allez sur la page de documentation du module [math](https://docs.python.org/fr/3/library/math.html) de la la bibliothèque standard de Pyton.\n",
    "\n",
    "#### Q2. En utilisant les fonctions et constantes du module [math](https://docs.python.org/fr/3/library/math.html), créez deux variables `f` et `g` stockant la valeur de $f(x)$ et $g(x)$ pour la valeur de `x` en début du code suivant."
   ]
  },
  {
   "cell_type": "markdown",
   "id": "572048e2",
   "metadata": {},
   "source": [
    "Résultat attendu: f(5)=14400979867.477177 et g(5)=-1.0"
   ]
  },
  {
   "cell_type": "code",
   "execution_count": 25,
   "id": "7abb737b-2c05-440d-b9c8-fe8f6f4a7aed",
   "metadata": {
    "tags": []
   },
   "outputs": [
    {
     "name": "stdout",
     "output_type": "stream",
     "text": [
      "f(5)=14400979867.477177\n",
      "g(5)=-1.0\n"
     ]
    }
   ],
   "source": [
    "from math import cos, exp, pi\n",
    "x = 5 # Valeur quelconque\n",
    "# Compléter ici\n",
    "fx=exp(x**2)/5\n",
    "gx=cos(pi*x)\n",
    "print(f\"f({x})={fx}\")\n",
    "print(f\"g({x})={gx}\")"
   ]
  },
  {
   "cell_type": "markdown",
   "id": "21505882-59c1-44aa-842f-0f92f40b6781",
   "metadata": {
    "tags": []
   },
   "source": [
    "&nbsp;\n",
    "---\n",
    "---\n",
    "# Devoirs pour la prochaine séance\n",
    "\n",
    "## Exercice A\n",
    "\n",
    "#### Q1. Soit la variable x initialisée à une valeur quelconque (par exemple 3), écrivez le code permettant d'afficher le texte `quand x = 3 alors 2x = 6`. \n"
   ]
  },
  {
   "cell_type": "code",
   "execution_count": 26,
   "id": "e9f7e91d-b0d7-4925-b6a6-7dfcc98fc465",
   "metadata": {
    "tags": []
   },
   "outputs": [
    {
     "name": "stdout",
     "output_type": "stream",
     "text": [
      "Quand x = 3, alors 2x = 6\n"
     ]
    }
   ],
   "source": [
    "x = 3 # Valeur quelconque\n",
    "double=2*x\n",
    "print(f\"Quand x = {x}, alors 2x = {double}\")"
   ]
  },
  {
   "cell_type": "markdown",
   "id": "24d89235-5a82-4f40-882c-0f2ba04b1edc",
   "metadata": {},
   "source": [
    "#### Q2. Si ce n'est pas déjà le cas, faites la même chose, mais sans définir de variable intermédiaire (c.a.d d'autre variable que `x`)."
   ]
  },
  {
   "cell_type": "code",
   "execution_count": 27,
   "id": "39cec31c-b5c5-4a65-b66a-992f38ae7c98",
   "metadata": {},
   "outputs": [
    {
     "name": "stdout",
     "output_type": "stream",
     "text": [
      "Quand x = 12, alors 2x = 24\n"
     ]
    }
   ],
   "source": [
    "x = 12\n",
    "print(f\"Quand x = {x}, alors 2x = {2*x}\")"
   ]
  },
  {
   "cell_type": "markdown",
   "id": "34ec7601-e32a-4af3-8391-0a2959f9e838",
   "metadata": {},
   "source": [
    "## Exercice B\n",
    "\n",
    "#### Q1. Sans excutez le code, évaluez les expressions suivantes, puis vérifiez vos résultats"
   ]
  },
  {
   "cell_type": "code",
   "execution_count": 28,
   "id": "5950caf1-1771-4643-8f34-3973f188014f",
   "metadata": {
    "tags": []
   },
   "outputs": [
    {
     "name": "stdout",
     "output_type": "stream",
     "text": [
      "True True False\n"
     ]
    }
   ],
   "source": [
    "x = 2\n",
    "y =  8\n",
    "exp1 = x == y / 4 # True\n",
    "exp2 = True or False # True\n",
    "exp3 = 4 + abs(-x) <= 2 # False\n",
    "\n",
    "print(exp1,exp2,exp3)"
   ]
  },
  {
   "cell_type": "markdown",
   "id": "3e655361-4114-4254-b80f-86cdfbb64b2a",
   "metadata": {},
   "source": [
    "## Exercice C\n",
    "\n",
    "<u> Notion</u> : définition et accès aux élément d'une liste\n",
    "\n",
    "L'objectif de cet exercice est de calculer le produit scalaire entre 2 vecteurs, v1 et v2 situés dans un plan. Les 2 vecteurs sont représentés par des listes.\n",
    "\n",
    "#### Q1. Déclarez deux listes nommées `v1` et `v2`. Initialisez chacune des listes avec deux entiers quelconques représentant les coordonnées du vecteur.\n",
    "\n",
    "#### Q2. Déclarez une variable nommée `produit_scalaire` et affectez lui l'expression permettant de calculer le produit scalaire entre `v1` et `v2`.  \n",
    "On rappelle la formule du produit scalaire entre deux vecteurs $v_1 = (x,y)$ et $v_2 = (x',y')$:  \n",
    "\n",
    "$$v_1.v_2 = xx' + yy'$$\n",
    "\n",
    "Quelques exemples de résultats: $(0,1).(1,0) = 0$, $(1,2).(3,4) = 11$.\n"
   ]
  },
  {
   "cell_type": "code",
   "execution_count": 30,
   "id": "51266471",
   "metadata": {},
   "outputs": [
    {
     "name": "stdout",
     "output_type": "stream",
     "text": [
      "11\n"
     ]
    }
   ],
   "source": [
    "v1=[1, 2]\n",
    "v2=[3, 4]\n",
    "produit_scalaire=v1[0]*v2[0]+v1[1]*v2[1]\n",
    "print(produit_scalaire)"
   ]
  },
  {
   "cell_type": "markdown",
   "id": "212d7f25",
   "metadata": {},
   "source": [
    "## Exercice D\n",
    "\n",
    "#### Q1. Créer deux listes `l1` et `l2` contenant chacune 4 zéros en utilisant deux syntaxes différentes."
   ]
  },
  {
   "cell_type": "code",
   "execution_count": 31,
   "id": "f593f03b",
   "metadata": {},
   "outputs": [
    {
     "name": "stdout",
     "output_type": "stream",
     "text": [
      "[0, 0, 0, 0] [0, 0, 0, 0]\n"
     ]
    }
   ],
   "source": [
    "l1=[0,0,0,0]\n",
    "l2=[0]*4\n",
    "print(l1, l2)"
   ]
  },
  {
   "cell_type": "markdown",
   "id": "ce417aaa",
   "metadata": {},
   "source": [
    " #### Q2. Créer la liste `l3` qui est la concaténation des deux listes précédentes"
   ]
  },
  {
   "cell_type": "code",
   "execution_count": 32,
   "id": "ee019591",
   "metadata": {},
   "outputs": [
    {
     "name": "stdout",
     "output_type": "stream",
     "text": [
      "[0, 0, 0, 0, 0, 0, 0, 0]\n"
     ]
    }
   ],
   "source": [
    "l3=l1+l2\n",
    "print(l3)"
   ]
  },
  {
   "cell_type": "markdown",
   "id": "027306c3",
   "metadata": {},
   "source": [
    "#### Q3. Ajouter les valeurs `5` et `10` à la fin de `l3`"
   ]
  },
  {
   "cell_type": "code",
   "execution_count": 34,
   "id": "41815940",
   "metadata": {},
   "outputs": [
    {
     "name": "stdout",
     "output_type": "stream",
     "text": [
      "[0, 0, 0, 0, 0, 0, 0, 0, 5, 10]\n"
     ]
    }
   ],
   "source": [
    "l3.append(5)\n",
    "l3.append(10)\n",
    "print(l3)"
   ]
  }
 ],
 "metadata": {
  "kernelspec": {
   "display_name": "Python 3 (ipykernel)",
   "language": "python",
   "name": "python3"
  },
  "language_info": {
   "codemirror_mode": {
    "name": "ipython",
    "version": 3
   },
   "file_extension": ".py",
   "mimetype": "text/x-python",
   "name": "python",
   "nbconvert_exporter": "python",
   "pygments_lexer": "ipython3",
   "version": "3.10.12"
  }
 },
 "nbformat": 4,
 "nbformat_minor": 5
}
