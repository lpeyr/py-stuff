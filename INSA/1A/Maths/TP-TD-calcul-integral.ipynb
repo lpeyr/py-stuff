{
 "cells": [
  {
   "cell_type": "markdown",
   "id": "02c7aba9-9f00-4e3e-a254-d1fb01588dd8",
   "metadata": {},
   "source": [
    "# Intégration numérique"
   ]
  },
  {
   "cell_type": "markdown",
   "id": "02124def",
   "metadata": {},
   "source": [
    "<div class='alert alert-info'>\n",
    "    <p>\n",
    "        - Ce TP est un prolongement du TP numérique effectué en OMNI en fin de S1 qui consiste à essayer de quantifier l'erreur commise en approximant le calcul d'intégrales avec différents schémas numériques\n",
    "    </p>\n",
    "    <p>\n",
    "        - L'énoncé du TD correspondant est disponible sur Moodle, ce document contient principalement les cellules pythons correspondantes pour les questions d'applications numériques\n",
    "    </p>\n",
    "</div>\n"
   ]
  },
  {
   "cell_type": "markdown",
   "id": "bd0cc819-6a6f-4e78-bbe9-0b4c9acc5e59",
   "metadata": {},
   "source": [
    "## 1. Rectangles - point gauche"
   ]
  },
  {
   "cell_type": "code",
   "execution_count": 4,
   "id": "002aeb26-1cd0-4dad-bded-3608b1559b9c",
   "metadata": {},
   "outputs": [],
   "source": [
    "a = 0       # Borne inférieure\n",
    "b = 1         # Borne supérieure\n",
    "N = 10       # Nombre de subdivisions\n",
    "\n",
    "## Fonction de la fonction f(x) à intégrer\n",
    "def f(x):\n",
    "    return 3*(x**3) + 3\n",
    "\n",
    "def riemann_1(func, a, b, N):\n",
    "    dx  = (b-a)/N                      # Taille d'une subdivision (constante ici)\n",
    "    val = 0                       # Initialisation de la valeur de l'intégrale\n",
    "\n",
    "    for i in range(N):            # On boucle sur toutes les subdivisions\n",
    "        x    = a + i * dx         # Point d'évaluation pour la subdivision\n",
    "        val  += func(x) * dx      # Somme successive des aires de chaque subdivision\n",
    "\n",
    "    return val"
   ]
  },
  {
   "cell_type": "code",
   "execution_count": 11,
   "id": "f66eb00c-53b8-4bd7-9bdd-4b42c26fb771",
   "metadata": {},
   "outputs": [
    {
     "name": "stdout",
     "output_type": "stream",
     "text": [
      "Estimation de l'integrale de f(x) : 2.957885406072401\n"
     ]
    }
   ],
   "source": [
    "\n",
    "Inum1 = riemann_1(f, 0, 1, 20)\n",
    "\n",
    "def g(x):\n",
    "    return (1+x**2)**(1/2)\n",
    "\n",
    "Inum2 = riemann_1(g, 0, 2, 4000000)\n",
    "\n",
    "print(f\"Estimation de l'integrale de f(x) : {Inum2}\")"
   ]
  },
  {
   "cell_type": "markdown",
   "id": "fc70b084",
   "metadata": {},
   "source": [
    "## 2. Rectangles - point milieu"
   ]
  },
  {
   "cell_type": "code",
   "execution_count": 1,
   "id": "21631a05-5cb1-4de2-ae46-669a9f73dd3e",
   "metadata": {},
   "outputs": [],
   "source": [
    "def riemann_2(func, a, b, N):    \n",
    "    dx  = (b-a)/N                       # Taille d'une subdivision (constante ici)\n",
    "    val = 0                        # Initialisation de la valeur de l'intégrale\n",
    "\n",
    "    for i in range(N):             # On boucle sur toutes les subdivisions\n",
    "        x    = a+(i+0.5)*dx                  # Point d'évaluation pour la subdivision\n",
    "        val  += func(x) * dx       # Somme successive des aires de chaque subdivision\n",
    "\n",
    "    return val"
   ]
  },
  {
   "cell_type": "code",
   "execution_count": 5,
   "id": "8c1fc5de",
   "metadata": {},
   "outputs": [
    {
     "name": "stdout",
     "output_type": "stream",
     "text": [
      "Estimation de l'integrale de f(x) : 3.7499625\n"
     ]
    }
   ],
   "source": [
    "Inum2 = riemann_2(f, 0, 1, 100)\n",
    "\n",
    "print(f\"Estimation de l'integrale de f(x) : {Inum2}\")"
   ]
  },
  {
   "cell_type": "markdown",
   "id": "cf5ee9c8-152d-40b6-a4cd-b2ac1fc466e4",
   "metadata": {},
   "source": [
    "## 3. Trapèzes"
   ]
  },
  {
   "cell_type": "code",
   "execution_count": null,
   "id": "512dce6b-bc78-4c9c-9c98-4799a185bd8b",
   "metadata": {},
   "outputs": [],
   "source": [
    "def riemann_3(func, a, b, N):\n",
    "    dx  =                        # Taille d'une subdivision (constante ici)\n",
    "    val = 0                      # Initialisation de la valeur de l'intégrale\n",
    "\n",
    "    for i in range(0,N+1):       # On boucle sur toutes les subdivisions\n",
    "        x_start =                # Point inférieur d'évaluation pour la subdivision\n",
    "        x_end   =                # Point supérieur d'évaluation pour la subdivision\n",
    "        val     +=               # Somme successive des aires de chaque subdivision\n",
    "\n",
    "    return val"
   ]
  },
  {
   "cell_type": "code",
   "execution_count": null,
   "id": "abbc654b-33ee-475a-ad16-e939b21f0f89",
   "metadata": {},
   "outputs": [],
   "source": [
    "Inum3 = riemann_3(??, ??, ??, ??)\n",
    "\n",
    "print(f\"Estimation de l'integrale de f(x) : {Inum3}\")"
   ]
  },
  {
   "cell_type": "code",
   "execution_count": null,
   "id": "6bcd3a5c",
   "metadata": {},
   "outputs": [],
   "source": []
  }
 ],
 "metadata": {
  "kernelspec": {
   "display_name": "Python 3",
   "language": "python",
   "name": "python3"
  },
  "language_info": {
   "codemirror_mode": {
    "name": "ipython",
    "version": 3
   },
   "file_extension": ".py",
   "mimetype": "text/x-python",
   "name": "python",
   "nbconvert_exporter": "python",
   "pygments_lexer": "ipython3",
   "version": "3.12.6"
  }
 },
 "nbformat": 4,
 "nbformat_minor": 5
}
