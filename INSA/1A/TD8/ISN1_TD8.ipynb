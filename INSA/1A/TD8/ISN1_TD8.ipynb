{
 "cells": [
  {
   "cell_type": "markdown",
   "metadata": {},
   "source": [
    "# <center>ISN1 TD8 - Codage des flottants </center>\n",
    "\n",
    "#### Compétences visées\n",
    "- Savoir convertir un nombre décimal en flottant en notation simple et scientifique\n",
    "- Comprendre les principes de base de l'arithmétique flottante\n",
    "- Reconnaître des phénomènes comme les erreurs d'arrondi, l'absorption et l'annulation catastrophique sur des cas simples\n"
   ]
  },
  {
   "cell_type": "markdown",
   "metadata": {},
   "source": [
    "## Exercice 1 - Notation binaire des flottants\n",
    "\n",
    "#### Q1. Ecrire le nombre décimal suivant sous forme de flottant binaire en notation simple, puis en notation scientifique : 5.75<sub>10</sub>\n",
    "\n",
    "$$(0101.11)_2$$\n",
    "$$(1.0111)_2\\times 2^2$$\n"
   ]
  },
  {
   "cell_type": "markdown",
   "metadata": {},
   "source": []
  },
  {
   "cell_type": "markdown",
   "metadata": {},
   "source": [
    "#### Q2. Faire la même chose pour le décimal 0.1\n",
    "\n",
    "Tableau des puissances de 2 négatives :\n",
    "| n  | -1  | -2   | -3    | -4     | -5      | -6       | -7        | -8         | -9          |\n",
    "|----|-----|------|-------|--------|---------|----------|-----------|------------|-------------|\n",
    "| 2<sub>n</sub> | 0.5 | 0.25 | 0.125 | 0.0625 | 0.03125 | 0.015625 | 0.0078125 | 0.00390625 | 0.001953125 |\n"
   ]
  },
  {
   "cell_type": "markdown",
   "metadata": {},
   "source": [
    "> On ne peut pas le coder en binaire, c'est une limitation de ce système ; on peut à la rigueur donner une approximation."
   ]
  },
  {
   "cell_type": "markdown",
   "metadata": {},
   "source": []
  },
  {
   "cell_type": "markdown",
   "metadata": {},
   "source": [
    "## Exercice 2 - Propriétés et phénomènes liés à l'arithmétique flottante\n",
    "Tout au long de cet exercice vous pourrez vous référer à certaines informations données dans le fichier annexe.pdf (posté dans la section TD8 de la page Moodle du cours ISN1) pour répondre aux questions."
   ]
  },
  {
   "cell_type": "markdown",
   "metadata": {},
   "source": [
    "#### Q1. Exécutez le code des cellules suivantes et observez les résultats obtenus. Quelles rubriques de l'annexe sont illustrées ici ?   Complétez en conséquence le titre des cellules."
   ]
  },
  {
   "cell_type": "code",
   "execution_count": 1,
   "metadata": {},
   "outputs": [
    {
     "name": "stdout",
     "output_type": "stream",
     "text": [
      "a = 0.1\n",
      "b = 0.2\n",
      "c = 0.3\n",
      "a + b = 0.30000000000000004\n",
      "\n",
      "test égalité a + b - c = 0 : False\n",
      "a + b - c = 5.551115123125783e-17\n"
     ]
    }
   ],
   "source": [
    "# Cas 1: Arrondis et opérations arithmétiques (1.4, 1.5, 2)\n",
    "\n",
    "a = 0.1\n",
    "b = 0.2\n",
    "c = 0.3\n",
    "\n",
    "print(f'a = {a}')\n",
    "print(f'b = {b}')\n",
    "print(f'c = {c}')\n",
    "print(f'a + b = {a+b}')\n",
    "print()\n",
    "\n",
    "print(f'test égalité a + b - c = 0 : {a + b - c == 0}')\n",
    "print(f'a + b - c = {a + b - c}')"
   ]
  },
  {
   "cell_type": "code",
   "execution_count": 3,
   "metadata": {},
   "outputs": [
    {
     "name": "stdout",
     "output_type": "stream",
     "text": [
      "test égalité : True\n"
     ]
    }
   ],
   "source": [
    "# Cas 2: 5.4.1\n",
    "\n",
    "a = 2**30\n",
    "b = 2**-27\n",
    "print(f'test égalité : {a + b == a}')"
   ]
  },
  {
   "cell_type": "markdown",
   "metadata": {},
   "source": [
    "#### Q2. Exécutez le code des cellules suivantes et observez les résultats obtenus. Quelles propriétés de l'arithmétique flottante sont illustrées ici ?   Complétez en conséquence le titre de la cellule."
   ]
  },
  {
   "cell_type": "code",
   "execution_count": 4,
   "metadata": {},
   "outputs": [
    {
     "name": "stdout",
     "output_type": "stream",
     "text": [
      "u = 8.56\n",
      "v = 4.13\n",
      "somme_u_v = 12.690000000000001\n",
      "somme_v_u = 12.690000000000001\n",
      "\n",
      "test 1: True\n",
      "test 2: True\n"
     ]
    }
   ],
   "source": [
    "# Cas 1 : Addition cummutative\n",
    "\n",
    "u = 8.56\n",
    "v = 4.13\n",
    "somme_u_v = u + v\n",
    "somme_v_u = v + u \n",
    "\n",
    "print(f'u = {u}')\n",
    "print(f'v = {v}')\n",
    "print(f'somme_u_v = {somme_u_v}')\n",
    "print(f'somme_v_u = {somme_v_u}')\n",
    "print()\n",
    "\n",
    "print(f'test 1: {somme_u_v == somme_v_u}')\n",
    "print(f'test 2: {somme_u_v - somme_v_u == 0}')"
   ]
  },
  {
   "cell_type": "code",
   "execution_count": 5,
   "metadata": {},
   "outputs": [
    {
     "name": "stdout",
     "output_type": "stream",
     "text": [
      "x = 3.12\n",
      "y = 5.25\n",
      "z = -6.03\n",
      "somme_1 = 2.3400000000000007\n",
      "somme_2 = 2.34\n",
      "\n",
      "test 1: False\n",
      "test 2: False\n"
     ]
    }
   ],
   "source": [
    "# Cas 2 : Annulation catastrophique, combinaison de plusieurs opérations => Non associativité\n",
    "\n",
    "x = 3.12\n",
    "y = 5.25\n",
    "z = -6.03\n",
    "\n",
    "print(f'x = {x}')\n",
    "print(f'y = {y}')\n",
    "print(f'z = {z}')\n",
    "\n",
    "somme_1 = (x+y) + z\n",
    "somme_2 = x + (y+z)\n",
    "print(f'somme_1 = {somme_1}')\n",
    "print(f'somme_2 = {somme_2}')\n",
    "print()\n",
    "\n",
    "print(f'test 1: {somme_1 == somme_2}')\n",
    "print(f'test 2: {somme_1-somme_2 == 0}')"
   ]
  },
  {
   "cell_type": "code",
   "execution_count": 6,
   "metadata": {},
   "outputs": [
    {
     "name": "stdout",
     "output_type": "stream",
     "text": [
      "Exemple 1\n",
      "f = 12.12\n",
      "h = 25.986\n",
      "l = 78.1\n",
      "prod = 1261.5223199999998\n",
      "distrib = 1261.5223199999998\n",
      "True\n",
      "\n",
      "Exemple 2\n",
      "f = 1e-10\n",
      "h = 3e+50\n",
      "l = 7e+35\n",
      "prod = 3.000000000000007e+40\n",
      "distrib = 3.0000000000000065e+40\n",
      "False\n"
     ]
    }
   ],
   "source": [
    "# Cas 3 : Non distributivité de la multiplication par rapport à l’addition\n",
    "\n",
    "def test_propriete(f, h, l):\n",
    "    print(f'f = {f}')\n",
    "    print(f'h = {h}')\n",
    "    print(f'l = {l}')\n",
    "\n",
    "    prod = f * (h+l)\n",
    "    distrib = f*h + f*l\n",
    "\n",
    "    print(f'prod = {prod}')\n",
    "    print(f'distrib = {distrib}')\n",
    "\n",
    "    return prod == distrib\n",
    "\n",
    "print(\"Exemple 1\")\n",
    "f = 12.12\n",
    "h = 25.986\n",
    "l = 78.1\n",
    "print(test_propriete(f, h, l))\n",
    "\n",
    "print('\\nExemple 2')\n",
    "f = 1e-10\n",
    "h =3e50\n",
    "l = 7e35\n",
    "print(test_propriete(f, h, l))"
   ]
  },
  {
   "cell_type": "markdown",
   "metadata": {},
   "source": [
    "---\n",
    "## Exercice 3 - Racines d'un polynôme du second degré\n",
    "\n",
    "Soit $a, b, c$ trois nombres réels avec $a\\ne 0$. Soit $P$ le polynôme de degré 2 défini pour tout $x \\in R$ par : $P(x) = a x² +b x + c$. \n",
    "\n",
    "Soit $\\Delta = b² - 4 a c$ le discriminant de $P$.\n",
    "\n",
    "Les racines du polynôme $P$ peuvent être calculées comme suit:\n",
    "- si $\\Delta < 0$, le polynôme n'a pas de racine réelle \n",
    "- si $\\Delta = 0$, le polynôme a une racine réelle $x_1 = \\frac{-b}{2a}$\n",
    "- si $\\Delta > 0$, le polynôme a deux racines réelles $x_1 = \\frac{-b+\\sqrt{\\Delta}}{2a}$ et $x_2 = \\frac{-b-\\sqrt{\\Delta}}{2a}$\n",
    "\n",
    "#### Q1. Ecrivez une fonction `calcul_racines(a, b, c)` qui renvoie la liste des racines réelles du polynôme P (et une liste vide si elles n'existent pas).\n"
   ]
  },
  {
   "cell_type": "code",
   "execution_count": 13,
   "metadata": {},
   "outputs": [],
   "source": [
    "def calcul_racines(a, b, c):\n",
    "    delta = (b**2-4*a*c)\n",
    "    liste = []\n",
    "    if delta > 0:\n",
    "        liste = [(-b+delta**(1/2))/2*a, (-b-delta**(1/2))/2*a]\n",
    "    elif delta == 0:\n",
    "        liste = [(-b)/2*a]\n",
    "    return liste"
   ]
  },
  {
   "cell_type": "markdown",
   "metadata": {},
   "source": [
    "#### Q2. Testez votre fonction `calcul_racines` sur le jeu de tests suivant :\n",
    "- $a = 1.0; b = -4.0; c = 3.0 \\rightarrow$ 2 racines $x_1=3$ et $x_2=1$ \n",
    "- $a = b = c = 1.0 \\rightarrow$ pas de racine réelle\n",
    "- $a = 1.0; b = 6.0; c = 9.0 \\rightarrow$ 1 racine $x_1=-3$"
   ]
  },
  {
   "cell_type": "code",
   "execution_count": 10,
   "metadata": {
    "scrolled": true
   },
   "outputs": [
    {
     "name": "stdout",
     "output_type": "stream",
     "text": [
      "[1.0, 3.0]\n",
      "[]\n",
      "[-3.0]\n"
     ]
    }
   ],
   "source": [
    "\n",
    "print(calcul_racines(1.0, -4.0, 3.0))\n",
    "print(calcul_racines(1.0, 1.0, 1.0))\n",
    "print(calcul_racines(1.0, 6.0, 9.0))"
   ]
  },
  {
   "cell_type": "markdown",
   "metadata": {},
   "source": [
    "#### Q3. Testez maintenant votre fonction `calcul_racines` avec $a = 1.0, b = -2 \\times 10^7$ et $c = 1.0$.\n",
    "\n",
    "Dans ce cas les valeurs exactes des racines de $P$ sont : \n",
    "$x_1=1.999999999999995 \\times 10^7$ et $x_2=5.00000000000001250 \\times 10^{-8}$.\n",
    "\n",
    "Comparez ces valeurs aux résultats que vous avez obtenus. Commentez.\n"
   ]
  },
  {
   "cell_type": "code",
   "execution_count": 14,
   "metadata": {},
   "outputs": [
    {
     "name": "stdout",
     "output_type": "stream",
     "text": [
      "[19999999.999999948, 5.029141902923584e-08]\n"
     ]
    }
   ],
   "source": [
    "print(calcul_racines(1.0, -2.0*10**7, 1.0))"
   ]
  },
  {
   "cell_type": "markdown",
   "metadata": {},
   "source": [
    "> On obtient une erreur d'arrondi sur la deuxième valeur ($x_2$)."
   ]
  },
  {
   "cell_type": "markdown",
   "metadata": {},
   "source": [
    "Pour éviter ces problèmes, on se propose d'écrire $x_2$ sous la forme $x_2 = \\frac{2c}{-b+\\sqrt{\\Delta}}$.\n",
    "\n",
    "#### Q4. Comment a-t-on obtenu cette expression ?\n"
   ]
  },
  {
   "cell_type": "markdown",
   "metadata": {},
   "source": [
    "> On a mutltiplié par le conjugué."
   ]
  },
  {
   "cell_type": "markdown",
   "metadata": {},
   "source": [
    "#### Q5. Ecrivez une fonction `calcul_racines_v2` similaire à `calcul_racines`, et qui implémente cette nouvelle façon de calculer $x_2$."
   ]
  },
  {
   "cell_type": "code",
   "execution_count": 16,
   "metadata": {},
   "outputs": [],
   "source": [
    "def calcul_racines_v2(a, b, c):\n",
    "    delta = (b**2-4*a*c)\n",
    "    liste = []\n",
    "    if delta > 0:\n",
    "        liste = [(-b+delta**(1/2))/2*a, 2*c/(-b+delta**(1/2))]\n",
    "    elif delta == 0:\n",
    "        liste = [(-b)/2*a]\n",
    "    return liste"
   ]
  },
  {
   "cell_type": "markdown",
   "metadata": {},
   "source": [
    "#### Q6. Testez votre fonction `calcul_racines_v2` pour $a = 1.0, b = -2 \\times 10^7$ et $c = 1.0$.\n",
    "Observez-vous une amélioration dans vos résultats ? Si oui, pouvez-vous l'expliquer ?"
   ]
  },
  {
   "cell_type": "code",
   "execution_count": 17,
   "metadata": {},
   "outputs": [
    {
     "name": "stdout",
     "output_type": "stream",
     "text": [
      "[19999999.999999948, 5.000000000000013e-08]\n"
     ]
    }
   ],
   "source": [
    "print(calcul_racines_v2(1.0, -2*10**7, 1.0))"
   ]
  },
  {
   "cell_type": "markdown",
   "metadata": {},
   "source": [
    "> Le résultat est beaucoup plus précis, cela est dû au fait qu'on utilise pas de soustraction avec les flottant (annulation catastrophique)"
   ]
  },
  {
   "cell_type": "markdown",
   "metadata": {},
   "source": [
    "#### Q7. (Bonus) La solution proposée ci-dessus fonctionne bien lorsque $b<0$, que se passe-t-il si $b>0$? Testez à nouveau votre code avec $b = 2 \\times 10^7$."
   ]
  },
  {
   "cell_type": "code",
   "execution_count": 18,
   "metadata": {},
   "outputs": [
    {
     "name": "stdout",
     "output_type": "stream",
     "text": [
      "[-5.029141902923584e-08, -19884107.85185185]\n"
     ]
    }
   ],
   "source": [
    "print(calcul_racines_v2(1.0, 2*10**7, 1.0))"
   ]
  },
  {
   "cell_type": "markdown",
   "metadata": {},
   "source": [
    "#### Q8. (Bonus) Proposez une solution qui permette de gérer ces 2 cas."
   ]
  },
  {
   "cell_type": "code",
   "execution_count": 19,
   "metadata": {},
   "outputs": [],
   "source": [
    "def calcul_racines_v3(a, b, c):\n",
    "    delta = (b**2-4*a*c)\n",
    "    liste = []\n",
    "    if delta > 0:\n",
    "        if b > 0:\n",
    "            liste = [(-b+delta**(1/2))/2*a, 2*c/(-b+delta**(1/2))]\n",
    "        else:\n",
    "            liste = [(-b+delta**(1/2))/2*a, (-b-delta**(1/2))/2*a]\n",
    "    elif delta == 0:\n",
    "        liste = [(-b)/2*a]\n",
    "    return liste"
   ]
  },
  {
   "cell_type": "code",
   "execution_count": 22,
   "metadata": {},
   "outputs": [
    {
     "name": "stdout",
     "output_type": "stream",
     "text": [
      "[-5.029141902923584e-08, -19884107.85185185]\n"
     ]
    }
   ],
   "source": [
    "print(calcul_racines_v3(1.0, 2*10**7, 1.0))"
   ]
  },
  {
   "cell_type": "markdown",
   "metadata": {},
   "source": [
    "---\n",
    "## Pour s'entrainer"
   ]
  },
  {
   "cell_type": "markdown",
   "metadata": {},
   "source": [
    "## Exercice 3 - Une suite curieuse\n",
    "\n",
    "Soit $a$ et $b$ deux nombres réels non nuls. La suite réelle  $(u_n)$ définie par $u_0$ donné et, pour tout $n\\in N$, $u_{n+1} = a u_n + b$ .\n",
    "\n",
    "#### Q1. Ecrivez une fonction `calcul_suite(u0, a, b,n)` qui renvoie la liste des $n$ premiers termes de la suite $(u_n)$.\n",
    "\n",
    "\n"
   ]
  },
  {
   "cell_type": "code",
   "execution_count": 30,
   "metadata": {},
   "outputs": [
    {
     "name": "stdout",
     "output_type": "stream",
     "text": [
      "11\n"
     ]
    }
   ],
   "source": [
    "def calcul_suite(u0, a, b, n):\n",
    "    if n == 0:\n",
    "        return u0\n",
    "    return a*calcul_suite(u0, a, b, n-1)+b\n",
    "\n",
    "print(calcul_suite(1, 4, -1, 2))"
   ]
  },
  {
   "cell_type": "markdown",
   "metadata": {},
   "source": [
    "\n",
    "On peut montrer que pour tout $n\\in N$, $u_n = a^n u_0 + \\frac{a^n - 1}{a-1} b$.\n",
    "\n",
    "Dans les questions Q2 et Q3, on posera $a = 4$ et $b = -1$.\n",
    "\n",
    "#### Q2.  Vérifiez que, dans ce cas, on a : $u_n = \\frac{1}{3} +4^n (u_0 - \\frac{1}{3})$. "
   ]
  },
  {
   "cell_type": "markdown",
   "metadata": {},
   "source": [
    "$$4^nu_0+\\frac{4^n-1}{4-1}=4^nu_0+\\frac{4^n}{3}-\\frac{1}{3}=\\frac{1}{3}+4^n(u_0-\\frac{1}{3})$$"
   ]
  },
  {
   "cell_type": "markdown",
   "metadata": {},
   "source": [
    "#### Q3.  Que peut-on dire de la suite $(u_n)$ si on choisit $u_0 = \\frac{1}{3}$ ?"
   ]
  },
  {
   "cell_type": "markdown",
   "metadata": {},
   "source": [
    "> $u_n=1/3$"
   ]
  },
  {
   "cell_type": "markdown",
   "metadata": {},
   "source": [
    "\n",
    "#### Q4. Utilisez la fonction `calcul_suite(u_0, a, b,n)` avec $u_0 = 1/3,  a = 4.0 , b = -1.0 $ et  $n = 35$, et affichez chaque terme $u_i$ de la suite sous la forme $u_i =$ valeur. Par exemple :\n",
    "\n",
    "u0 = 0.333\\\n",
    "u1 = 0.333\\\n",
    "u2 = 0.333\\\n",
    "...\n",
    "\n",
    "\n",
    "Que constatez-vous ? Commentez brièvement vos résultats."
   ]
  },
  {
   "cell_type": "code",
   "execution_count": 39,
   "metadata": {},
   "outputs": [
    {
     "name": "stdout",
     "output_type": "stream",
     "text": [
      "u0 = 0.3333333333333333\n",
      "u1 = 0.33333333333333326\n",
      "u2 = 0.33333333333333304\n",
      "u3 = 0.33333333333333215\n",
      "u4 = 0.3333333333333286\n",
      "u5 = 0.3333333333333144\n",
      "u6 = 0.33333333333325754\n",
      "u7 = 0.33333333333303017\n",
      "u8 = 0.3333333333321207\n",
      "u9 = 0.3333333333284827\n",
      "u10 = 0.3333333333139308\n",
      "u11 = 0.3333333332557231\n",
      "u12 = 0.3333333330228925\n",
      "u13 = 0.3333333320915699\n",
      "u14 = 0.3333333283662796\n",
      "u15 = 0.3333333134651184\n",
      "u16 = 0.33333325386047363\n",
      "u17 = 0.33333301544189453\n",
      "u18 = 0.3333320617675781\n",
      "u19 = 0.3333282470703125\n",
      "u20 = 0.33331298828125\n",
      "u21 = 0.333251953125\n",
      "u22 = 0.3330078125\n",
      "u23 = 0.33203125\n",
      "u24 = 0.328125\n",
      "u25 = 0.3125\n",
      "u26 = 0.25\n",
      "u27 = 0.0\n",
      "u28 = -1.0\n",
      "u29 = -5.0\n",
      "u30 = -21.0\n",
      "u31 = -85.0\n",
      "u32 = -341.0\n",
      "u33 = -1365.0\n",
      "u34 = -5461.0\n",
      "u35 = -21845.0\n"
     ]
    }
   ],
   "source": [
    "for i in range(36):\n",
    "    print(f\"u{i} = {calcul_suite(1/3, 4.0, -1.0, i)}\")"
   ]
  },
  {
   "cell_type": "markdown",
   "metadata": {},
   "source": [
    "#### Q6. En utilisant le fait que le codage de $u_0 $ en double précision est de la forme $\\frac{1}{3} (1-\\delta)$, avec $\\delta \\simeq \\epsilon_{machine}$, montrer que $u_n = \\frac{1}{3} (1 - 4^n \\delta)$, et en déduire une explication pour les résultats observés précédemment."
   ]
  },
  {
   "cell_type": "markdown",
   "metadata": {},
   "source": [
    "> On réinjecte la nouvelle expression de $u_0$ dans l'expression de $u_n$, et on obtient  $u_n\\frac{1}{3} (1-4^n\\delta)$, avec $\\delta \\simeq \\epsilon_{machine}$. Ainsi l'erreur $\\delta$ augmente en fonction de 4^n ; elle est de plus en plus importante lorsque n augmente, ce qui explique l'err"
   ]
  },
  {
   "cell_type": "code",
   "execution_count": null,
   "metadata": {},
   "outputs": [],
   "source": []
  }
 ],
 "metadata": {
  "kernelspec": {
   "display_name": "Python 3 (ipykernel)",
   "language": "python",
   "name": "python3"
  },
  "language_info": {
   "codemirror_mode": {
    "name": "ipython",
    "version": 3
   },
   "file_extension": ".py",
   "mimetype": "text/x-python",
   "name": "python",
   "nbconvert_exporter": "python",
   "pygments_lexer": "ipython3",
   "version": "3.10.12"
  },
  "vscode": {
   "interpreter": {
    "hash": "e19d100ac3c6666f9cc41bef7c127c56b166ee1a447aba01d6af234b7a9cbc05"
   }
  }
 },
 "nbformat": 4,
 "nbformat_minor": 4
}
