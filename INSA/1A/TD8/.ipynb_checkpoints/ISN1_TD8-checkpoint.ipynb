{
 "cells": [
  {
   "cell_type": "markdown",
   "metadata": {},
   "source": [
    "# <center>ISN1 TD8 - Codage des flottants </center>\n",
    "\n",
    "#### Compétences visées\n",
    "- Savoir convertir un nombre décimal en flottant en notation simple et scientifique\n",
    "- Comprendre les principes de base de l'arithmétique flottante\n",
    "- Reconnaître des phénomènes comme les erreurs d'arrondi, l'absorption et l'annulation catastrophique sur des cas simples\n"
   ]
  },
  {
   "cell_type": "markdown",
   "metadata": {},
   "source": [
    "## Exercice 1 - Notation binaire des flottants\n",
    "\n",
    "#### Q1. Ecrire le nombre décimal suivant sous forme de flottant binaire en notation simple, puis en notation scientifique : 5.75<sub>10</sub>\n",
    "\n",
    "101.\n"
   ]
  },
  {
   "cell_type": "markdown",
   "metadata": {},
   "source": []
  },
  {
   "cell_type": "markdown",
   "metadata": {},
   "source": [
    "#### Q2. Faire la même chose pour le décimal 0.1\n",
    "\n",
    "Tableau des puissances de 2 négatives :\n",
    "| n  | -1  | -2   | -3    | -4     | -5      | -6       | -7        | -8         | -9          |\n",
    "|----|-----|------|-------|--------|---------|----------|-----------|------------|-------------|\n",
    "| 2<sub>n</sub> | 0.5 | 0.25 | 0.125 | 0.0625 | 0.03125 | 0.015625 | 0.0078125 | 0.00390625 | 0.001953125 |\n"
   ]
  },
  {
   "cell_type": "markdown",
   "metadata": {},
   "source": []
  },
  {
   "cell_type": "markdown",
   "metadata": {},
   "source": [
    "## Exercice 2 - Propriétés et phénomènes liés à l'arithmétique flottante\n",
    "Tout au long de cet exercice vous pourrez vous référer à certaines informations données dans le fichier annexe.pdf (posté dans la section TD8 de la page Moodle du cours ISN1) pour répondre aux questions."
   ]
  },
  {
   "cell_type": "markdown",
   "metadata": {},
   "source": [
    "#### Q1. Exécutez le code des cellules suivantes et observez les résultats obtenus. Quelles rubriques de l'annexe sont illustrées ici ?   Complétez en conséquence le titre des cellules."
   ]
  },
  {
   "cell_type": "code",
   "execution_count": null,
   "metadata": {},
   "outputs": [],
   "source": [
    "# Cas 1: ??\n",
    "\n",
    "a = 0.1\n",
    "b = 0.2\n",
    "c = 0.3\n",
    "\n",
    "print(f'a = {a}')\n",
    "print(f'b = {b}')\n",
    "print(f'c = {c}')\n",
    "print(f'a + b = {a+b}')\n",
    "print()\n",
    "\n",
    "print(f'test égalité a + b - c = 0 : {a + b - c == 0}')\n",
    "print(f'a + b - c = {a + b - c}')"
   ]
  },
  {
   "cell_type": "code",
   "execution_count": null,
   "metadata": {},
   "outputs": [],
   "source": [
    "# Cas 2: ??\n",
    "\n",
    "a = 2**30\n",
    "b = 2**-27\n",
    "print(f'test égalité : {a + b == a}')"
   ]
  },
  {
   "cell_type": "markdown",
   "metadata": {},
   "source": [
    "#### Q2. Exécutez le code des cellules suivantes et observez les résultats obtenus. Quelles propriétés de l'arithmétique flottante sont illustrées ici ?   Complétez en conséquence le titre de la cellule."
   ]
  },
  {
   "cell_type": "code",
   "execution_count": null,
   "metadata": {},
   "outputs": [],
   "source": [
    "# Cas 1 : ??\n",
    "\n",
    "u = 8.56\n",
    "v = 4.13\n",
    "somme_u_v = u + v\n",
    "somme_v_u = v + u \n",
    "\n",
    "print(f'u = {u}')\n",
    "print(f'v = {v}')\n",
    "print(f'somme_u_v = {somme_u_v}')\n",
    "print(f'somme_v_u = {somme_v_u}')\n",
    "print()\n",
    "\n",
    "print(f'test 1: {somme_u_v == somme_v_u}')\n",
    "print(f'test 2: {somme_u_v - somme_v_u == 0}')"
   ]
  },
  {
   "cell_type": "code",
   "execution_count": null,
   "metadata": {},
   "outputs": [],
   "source": [
    "# Cas 2 : ??\n",
    "\n",
    "x = 3.12\n",
    "y = 5.25\n",
    "z = -6.03\n",
    "\n",
    "print(f'x = {x}')\n",
    "print(f'y = {y}')\n",
    "print(f'z = {z}')\n",
    "\n",
    "somme_1 = (x+y) + z\n",
    "somme_2 = x + (y+z)\n",
    "print(f'somme_1 = {somme_1}')\n",
    "print(f'somme_2 = {somme_2}')\n",
    "print()\n",
    "\n",
    "print(f'test 1: {somme_1 == somme_2}')\n",
    "print(f'test 2: {somme_1-somme_2 == 0}')"
   ]
  },
  {
   "cell_type": "code",
   "execution_count": null,
   "metadata": {},
   "outputs": [],
   "source": [
    "# Cas 3 : ??\n",
    "\n",
    "def test_propriete(f, h, l):\n",
    "    print(f'f = {f}')\n",
    "    print(f'h = {h}')\n",
    "    print(f'l = {l}')\n",
    "\n",
    "    prod = f * (h+l)\n",
    "    distrib = f*h + f*l\n",
    "\n",
    "    print(f'prod = {prod}')\n",
    "    print(f'distrib = {distrib}')\n",
    "\n",
    "    return prod == distrib\n",
    "\n",
    "print(\"Exemple 1\")\n",
    "f = 12.12\n",
    "h = 25.986\n",
    "l = 78.1\n",
    "print(test_propriete(f, h, l))\n",
    "\n",
    "print('\\nExemple 2')\n",
    "f = 1e-10\n",
    "h =3e50\n",
    "l = 7e35\n",
    "print(test_propriete(f, h, l))"
   ]
  },
  {
   "cell_type": "markdown",
   "metadata": {},
   "source": [
    "---\n",
    "## Exercice 3 - Racines d'un polynôme du second degré\n",
    "\n",
    "Soit $a, b, c$ trois nombres réels avec $a\\ne 0$. Soit $P$ le polynôme de degré 2 défini pour tout $x \\in R$ par : $P(x) = a x² +b x + c$. \n",
    "\n",
    "Soit $\\Delta = b² - 4 a c$ le discriminant de $P$.\n",
    "\n",
    "Les racines du polynôme $P$ peuvent être calculées comme suit:\n",
    "- si $\\Delta < 0$, le polynôme n'a pas de racine réelle \n",
    "- si $\\Delta = 0$, le polynôme a une racine réelle $x_1 = \\frac{-b}{2a}$\n",
    "- si $\\Delta > 0$, le polynôme a deux racines réelles $x_1 = \\frac{-b+\\sqrt{\\Delta}}{2a}$ et $x_2 = \\frac{-b-\\sqrt{\\Delta}}{2a}$\n",
    "\n",
    "#### Q1. Ecrivez une fonction `calcul_racines(a, b, c)` qui renvoie la liste des racines réelles du polynôme P (et une liste vide si elles n'existent pas).\n"
   ]
  },
  {
   "cell_type": "code",
   "execution_count": 6,
   "metadata": {},
   "outputs": [],
   "source": []
  },
  {
   "cell_type": "markdown",
   "metadata": {},
   "source": [
    "#### Q2. Testez votre fonction `calcul_racines` sur le jeu de tests suivant :\n",
    "- $a = 1.0; b = -4.0; c = 3.0 \\rightarrow$ 2 racines $x_1=3$ et $x_2=1$ \n",
    "- $a = b = c = 1.0 \\rightarrow$ pas de racine réelle\n",
    "- $a = 1.0; b = 6.0; c = 9.0 \\rightarrow$ 1 racine $x_1=-3$"
   ]
  },
  {
   "cell_type": "code",
   "execution_count": 7,
   "metadata": {
    "scrolled": true
   },
   "outputs": [
    {
     "name": "stdout",
     "output_type": "stream",
     "text": [
      "test 1 : a = 1.0, b = -4.0, c =3.0 \n",
      "[3.0, 1.0]\n",
      "\n",
      "test 2 : a = 1.0, b = 1.0, c =1.0 \n",
      "[]\n",
      "\n",
      "test 3 : a = 1.0, b = 6.0, c =9.0 \n",
      "[-3.0]\n"
     ]
    }
   ],
   "source": []
  },
  {
   "cell_type": "markdown",
   "metadata": {},
   "source": [
    "#### Q3. Testez maintenant votre fonction `calcul_racines` avec $a = 1.0, b = -2 \\times 10^7$ et $c = 1.0$.\n",
    "\n",
    "Dans ce cas les valeurs exactes des racines de $P$ sont : \n",
    "$x_1=1.999999999999995 \\times 10^7$ et $x_2=5.00000000000001250 \\times 10^{-8}$.\n",
    "\n",
    "Comparez ces valeurs aux résultats que vous avez obtenus. Commentez.\n"
   ]
  },
  {
   "cell_type": "code",
   "execution_count": 12,
   "metadata": {},
   "outputs": [
    {
     "name": "stdout",
     "output_type": "stream",
     "text": [
      "test 4 : a = 1.0, b = -2*10**7, c =1.0 \n",
      "erreur sur la première racine : 0.0\n",
      "erreur sur la deuxième racine : 2.914190292357164e-10\n"
     ]
    }
   ],
   "source": []
  },
  {
   "cell_type": "markdown",
   "metadata": {},
   "source": [
    "Pour éviter ces problèmes, on se propose d'écrire $x_2$ sous la forme $x_2 = \\frac{2c}{-b+\\sqrt{\\Delta}}$.\n",
    "\n",
    "#### Q4. Comment a-t-on obtenu cette expression ?\n"
   ]
  },
  {
   "cell_type": "markdown",
   "metadata": {},
   "source": []
  },
  {
   "cell_type": "markdown",
   "metadata": {},
   "source": [
    "#### Q5. Ecrivez une fonction `calcul_racines_v2` similaire à `calcul_racines`, et qui implémente cette nouvelle façon de calculer $x_2$."
   ]
  },
  {
   "cell_type": "code",
   "execution_count": null,
   "metadata": {},
   "outputs": [],
   "source": []
  },
  {
   "cell_type": "markdown",
   "metadata": {},
   "source": [
    "#### Q6. Testez votre fonction `calcul_racines_v2` pour $a = 1.0, b = -2 \\times 10^7$ et $c = 1.0$.\n",
    "Observez-vous une amélioration dans vos résultats ? Si oui, pouvez-vous l'expliquer ?"
   ]
  },
  {
   "cell_type": "code",
   "execution_count": 18,
   "metadata": {},
   "outputs": [
    {
     "name": "stdout",
     "output_type": "stream",
     "text": [
      "\n",
      "test 5 : a = 1.0, b = -2*10**7, c =1.0 \n",
      "erreur sur la première racine : 0.0\n",
      "erreur sur la deuxième racine : 6.617444900424222e-24\n"
     ]
    }
   ],
   "source": []
  },
  {
   "cell_type": "markdown",
   "metadata": {},
   "source": [
    "#### Q7. (Bonus) La solution proposée ci-dessus fonctionne bien lorsque $b<0$, que se passe-t-il si $b>0$? Testez à nouveau votre code avec $b = 2 \\times 10^7$."
   ]
  },
  {
   "cell_type": "markdown",
   "metadata": {},
   "source": []
  },
  {
   "cell_type": "markdown",
   "metadata": {},
   "source": [
    "#### Q8. (Bonus) Proposez une solution qui permette de gérer ces 2 cas."
   ]
  },
  {
   "cell_type": "code",
   "execution_count": null,
   "metadata": {},
   "outputs": [],
   "source": []
  },
  {
   "cell_type": "markdown",
   "metadata": {},
   "source": [
    "---\n",
    "## Pour s'entrainer"
   ]
  },
  {
   "cell_type": "markdown",
   "metadata": {},
   "source": [
    "## Exercice 3 - Une suite curieuse\n",
    "\n",
    "Soit $a$ et $b$ deux nombres réels non nuls. La suite réelle  $(u_n)$ définie par $u_0$ donné et, pour tout $n\\in N$, $u_{n+1} = a u_n + b$ .\n",
    "\n",
    "#### Q1. Ecrivez une fonction `calcul_suite(u0, a, b,n)` qui renvoie la liste des $n$ premiers termes de la suite $(u_n)$.\n",
    "\n",
    "\n"
   ]
  },
  {
   "cell_type": "code",
   "execution_count": null,
   "metadata": {},
   "outputs": [],
   "source": []
  },
  {
   "cell_type": "markdown",
   "metadata": {},
   "source": [
    "\n",
    "On peut montrer que pour tout $n\\in N$, $u_n = a^n u_0 + \\frac{a^n - 1}{a-1} b$.\n",
    "\n",
    "Dans les questions Q2 et Q3, on posera $a = 4$ et $b = -1$.\n",
    "\n",
    "#### Q2.  Vérifiez que, dans ce cas, on a : $u_n = \\frac{1}{3} +4^n (u_0 - \\frac{1}{3})$. "
   ]
  },
  {
   "cell_type": "markdown",
   "metadata": {},
   "source": []
  },
  {
   "cell_type": "markdown",
   "metadata": {},
   "source": [
    "#### Q3.  Que peut-on dire de la suite $(u_n)$ si on choisit $u_0 = \\frac{1}{3}$ ?"
   ]
  },
  {
   "cell_type": "markdown",
   "metadata": {},
   "source": []
  },
  {
   "cell_type": "markdown",
   "metadata": {},
   "source": [
    "\n",
    "#### Q4. Utilisez la fonction `calcul_suite(u_0, a, b,n)` avec $u_0 = 1/3,  a = 4.0 , b = -1.0 $ et  $n = 35$, et affichez chaque terme $u_i$ de la suite sous la forme $u_i =$ valeur. Par exemple :\n",
    "\n",
    "u0 = 0.333\\\n",
    "u1 = 0.333\\\n",
    "u2 = 0.333\\\n",
    "...\n",
    "\n",
    "\n",
    "Que constatez-vous ? Commentez brièvement vos résultats."
   ]
  },
  {
   "cell_type": "code",
   "execution_count": null,
   "metadata": {},
   "outputs": [],
   "source": []
  },
  {
   "cell_type": "markdown",
   "metadata": {},
   "source": [
    "#### Q6. En utilisant le fait que le codage de $u_0 $ en double précision est de la forme $\\frac{1}{3} (1-\\delta)$, avec $\\delta \\simeq \\epsilon_{machine}$, montrer que $u_n = \\frac{1}{3} (1 - 4^n \\delta)$, et en déduire une explication pour les résultats observés précédemment."
   ]
  }
 ],
 "metadata": {
  "kernelspec": {
   "display_name": "Python 3 (ipykernel)",
   "language": "python",
   "name": "python3"
  },
  "language_info": {
   "codemirror_mode": {
    "name": "ipython",
    "version": 3
   },
   "file_extension": ".py",
   "mimetype": "text/x-python",
   "name": "python",
   "nbconvert_exporter": "python",
   "pygments_lexer": "ipython3",
   "version": "3.10.12"
  },
  "vscode": {
   "interpreter": {
    "hash": "e19d100ac3c6666f9cc41bef7c127c56b166ee1a447aba01d6af234b7a9cbc05"
   }
  }
 },
 "nbformat": 4,
 "nbformat_minor": 4
}
