{
 "cells": [
  {
   "cell_type": "markdown",
   "id": "64592bdc",
   "metadata": {},
   "source": [
    "# <center>ISN1 TD2 - Conditionnelles, boucles et fonctions simples</center>\n",
    "\n",
    "\n",
    "Cette séquence a pour objectif l'étude des instructions conditionnelles (`if`) et répétitives (`while`, `for`). \n",
    "\n",
    "Ce TD permet de voir ou revoir les conditionnelles et introduit les boucles for et while sur des exemples simples.\n",
    "\n",
    "#### Compétences visées\n",
    "- Écrire un enchainement de conditionnelles\n",
    "- Définir une fonctions simple\n",
    "- Encapsuler du code dans une fonction afin de le tester sur un jeu de tests.\n",
    "- Retranscrire sous forme de conditionnelles un algorithme simple\n",
    "- Écrire des boucles simples \n",
    "- Apprendre à reconnaitre le type de boucle à utiliser pour un probleme posé\n"
   ]
  },
  {
   "cell_type": "markdown",
   "id": "7160ba2f",
   "metadata": {},
   "source": [
    "&nbsp;\n",
    "---\n",
    "---\n",
    "&nbsp;\n",
    "## Exercice 1 - Conditions - Algorithme du marché\n",
    "\n",
    "**<u>Notions</u>** : conditionnelle simple, enchaînement de conditionnelles, définition de fonction, variables booléennes\n",
    "\n",
    "Nous voulons programmer le scénario suivant : \n",
    "\n",
    "1. Je suis sur le marché.\n",
    "2. Dans mon porte monnaie : j'ai deux billets de 20€, un billet de 10€, et deux pièces de 2€.\n",
    "3. Je commence mes courses.\n",
    "4. Si le prix des tomates est inférieur à 2€/Kg, j'en achète 3Kg.\n",
    "5. Si le prix de la tomme de Savoie est inférieur à 10€/Kg, j'en achète 500g ;\n",
    "6. Sinon, si le prix du comté est inférieur à 12€/Kg, j'en achète 250g ;\n",
    "7. Sinon, j'achète 3 yaourts.\n",
    "8. Je prends une baguette de pain à 1,10€.\n",
    "9. J'ai terminé.\n",
    "\n",
    "Pour le moment, voici le code disponible :"
   ]
  },
  {
   "cell_type": "code",
   "execution_count": 76,
   "id": "d194d0d7",
   "metadata": {},
   "outputs": [
    {
     "name": "stdout",
     "output_type": "stream",
     "text": [
      "les tomates sont trop chères !\n"
     ]
    }
   ],
   "source": [
    "# Initialisation des variables \n",
    "prix_tomates = 3.5\n",
    "prix_tomme = 10\n",
    "prix_comte = 15\n",
    "prix_yaourt = 0.5\n",
    "poids_yaourt = 0.125\n",
    "prix_pain = 1.1\n",
    "poids_pain = 0.200\n",
    "porte_monnaie = 2*20 + 1*10 + 2*2\n",
    "\n",
    "if prix_tomates < 2:\n",
    "    print(\"j'achète des tomates\")\n",
    "else :\n",
    "    print(\"les tomates sont trop chères !\")\n",
    "    "
   ]
  },
  {
   "cell_type": "markdown",
   "id": "a7e8ef5c",
   "metadata": {},
   "source": [
    "#### Q1. Lire le code précédent. Quels choix ont été faits concernant la représentation des informations en mémoire (type des variables, et unités choisies). Quelles étapes de l'algorithme ont été implémentées ?\n",
    "> On utilise des variables contenant les prix au kg des différents produits. La variable prote-monnaie contient la somme d'argent totale disponible. La condition pour connaître si le prix des tomates est trop cher a été implémenté."
   ]
  },
  {
   "cell_type": "markdown",
   "id": "e6a82158",
   "metadata": {
    "tags": []
   },
   "source": [
    "---\n",
    "Nous voulons que l'exécution de ce programme fournisse le poids final du panier et la somme d'argent restante pour n'importe quel scénario défini par le prix des différents produits. \n",
    "\n",
    "#### Q2. Modifiez le code précédent pour calculer et afficher le poids du panier et l'argent restant dans le porte monnaie après l'achat des tomates. L'affichage doit se faire avec une f-string"
   ]
  },
  {
   "cell_type": "code",
   "execution_count": 5,
   "id": "3d772e2b",
   "metadata": {},
   "outputs": [
    {
     "name": "stdout",
     "output_type": "stream",
     "text": [
      "les tomates sont trop chères !\n",
      "Poids du panner : 0.575kg, Solde: 51.4€\n"
     ]
    }
   ],
   "source": [
    "# Initialisation des variables \n",
    "prix_tomates = 3.5\n",
    "prix_tomme = 10\n",
    "prix_comte = 15\n",
    "prix_yaourt = 0.5\n",
    "poids_yaourt = 0.125\n",
    "prix_pain = 1.1\n",
    "poids_pain = 0.200\n",
    "porte_monnaie = 2*20 + 1*10 + 2*2\n",
    "poids_panier=0\n",
    "\n",
    "if prix_tomates < 2:\n",
    "    print(\"j'achète des tomates\")\n",
    "    poids_panier+=3\n",
    "    porte_monnaire-=3*prix_tomates\n",
    "else:\n",
    "    print(\"les tomates sont trop chères !\")\n",
    "    \n",
    "if prix_tomme < 10:\n",
    "    print(\"j'achète de la tomme\")\n",
    "    poids_panier+=0.5\n",
    "    porte_monnaie-=0.5*prix_tomme\n",
    "        \n",
    "elif prix_comte < 12:\n",
    "    print(\"j'achète du comté\")\n",
    "    poids_panier+=0.250\n",
    "    porte_monnaie-=0.250*prix_compte\n",
    "else:\n",
    "    poids_panier+=3*poids_yaourt\n",
    "    porte_monnaie-=3*prix_yaourt\n",
    "    \n",
    "poids_panier+=poids_pain\n",
    "porte_monnaie-=prix_pain\n",
    "print(f\"Poids du panner : {poids_panier}kg, Solde: {porte_monnaie}€\")"
   ]
  },
  {
   "cell_type": "markdown",
   "id": "f8241989",
   "metadata": {},
   "source": [
    "---\n",
    "#### Q3. Complétez votre code pour afficher le montant d'argent restant ainsi que le poids du panier à la fin de l'algorithme du marché. \n",
    "\n",
    "Avec les prix donnés en début de programme, vous devriez obtenir un panier de 0,575 kg avec 51,4 euros restants dans le porte monnaie."
   ]
  },
  {
   "cell_type": "code",
   "execution_count": 6,
   "id": "b3547adf",
   "metadata": {},
   "outputs": [
    {
     "name": "stdout",
     "output_type": "stream",
     "text": [
      "les tomates sont trop chères !\n",
      "Poids du panner : 0.575kg, Solde: 51.4€\n"
     ]
    }
   ],
   "source": [
    "# Initialisation des variables \n",
    "prix_tomates = 3.5\n",
    "prix_tomme = 10\n",
    "prix_comte = 15\n",
    "prix_yaourt = 0.5\n",
    "poids_yaourt = 0.125\n",
    "prix_pain = 1.1\n",
    "poids_pain = 0.200\n",
    "porte_monnaie = 2*20 + 1*10 + 2*2\n",
    "poids_panier=0\n",
    "\n",
    "if prix_tomates < 2:\n",
    "    print(\"j'achète des tomates\")\n",
    "    poids_panier+=3\n",
    "    porte_monnaire-=3*prix_tomates\n",
    "else:\n",
    "    print(\"les tomates sont trop chères !\")\n",
    "    \n",
    "if prix_tomme < 10:\n",
    "    print(\"j'achète de la tomme\")\n",
    "    poids_panier+=0.5\n",
    "    porte_monnaie-=0.5*prix_tomme\n",
    "        \n",
    "elif prix_comte < 12:\n",
    "    print(\"j'achète du comté\")\n",
    "    poids_panier+=0.250\n",
    "    porte_monnaie-=0.250*prix_compte\n",
    "else:\n",
    "    poids_panier+=3*poids_yaourt\n",
    "    porte_monnaie-=3*prix_yaourt\n",
    "    \n",
    "poids_panier+=poids_pain\n",
    "porte_monnaie-=prix_pain\n",
    "print(f\"Poids du panner : {poids_panier}kg, Solde: {porte_monnaie}€\")"
   ]
  },
  {
   "cell_type": "markdown",
   "id": "18e1c5e1",
   "metadata": {},
   "source": [
    "---\n",
    "On souhaite maintenant modifier notre algorithme de la façon suivante:\n",
    "- étape 5: j'achète la tomme de Savoie si elle est en promotion, peu importe son prix\n",
    "- étape 8: je n'achète du pain que si j'ai déja acheté du fromage (comté ou tomme)\n",
    "\n",
    "L'algorithme complet devient donc:\n",
    "\n",
    "1. Je suis sur le marché.\n",
    "2. Dans mon porte monnaie : j'ai deux billets de 20€, un billet de 10€, et deux pièces de 2€.\n",
    "3. Je commence mes courses.\n",
    "4. Si le prix des tomates est inférieur à 2€/Kg, j'en achète 3Kg.\n",
    "5. **S'il y a une promotion sur la tomme de Savoie, j'en achète 500g ;**\n",
    "6. Sinon, si le prix du comté est inférieur à 12€/Kg, j'en achète 250g ;\n",
    "7. Sinon, j'achète 3 yaourts.\n",
    "8. **Si j’ai acheté du fromage (comté ou tomme), je prends une baguette de pain à 1,10€.**\n",
    "9. J'ai terminé.\n",
    "    \n",
    "#### Q4. Combien d'états sont possibles pour la promotion sur la tomme de Savoie ? Quel type de variable peut donc être utilisé pour représenté cette information dans votre programme? Faire le même raisonnement pour l'achat de fromage\n",
    "> Les deux états sont `Vrai` et `Faux`, on peut donc utiliser un booléen pour représenter cet état."
   ]
  },
  {
   "cell_type": "markdown",
   "id": "0ae7360d",
   "metadata": {},
   "source": [
    "#### Q5. Modifiez votre programme pour intégrer la promotion sur la tomme de Savoie et l'achat d'une baguette"
   ]
  },
  {
   "cell_type": "code",
   "execution_count": 7,
   "id": "742fd873",
   "metadata": {},
   "outputs": [
    {
     "name": "stdout",
     "output_type": "stream",
     "text": [
      "les tomates sont trop chères !\n",
      "j'achète de la tomme\n",
      "Poids du panner : 0.7kg, Solde: 47.9€\n"
     ]
    }
   ],
   "source": [
    "# Initialisation des variables \n",
    "prix_tomates = 3.5\n",
    "prix_tomme = 10\n",
    "prix_comte = 15\n",
    "prix_yaourt = 0.5\n",
    "poids_yaourt = 0.125\n",
    "prix_pain = 1.1\n",
    "poids_pain = 0.200\n",
    "porte_monnaie = 2*20 + 1*10 + 2*2\n",
    "poids_panier = 0\n",
    "promotion_savoie = True\n",
    "fromage = False\n",
    "\n",
    "if prix_tomates < 2:\n",
    "    print(\"j'achète des tomates\")\n",
    "    poids_panier+=3\n",
    "    porte_monnaire-=3*prix_tomates\n",
    "else:\n",
    "    print(\"les tomates sont trop chères !\")\n",
    "    \n",
    "if promotion_savoie:\n",
    "    print(\"j'achète de la tomme\")\n",
    "    poids_panier+=0.5\n",
    "    porte_monnaie-=0.5*prix_tomme\n",
    "    fromage = True\n",
    "        \n",
    "elif prix_comte < 12:\n",
    "    print(\"j'achète du comté\")\n",
    "    poids_panier+=0.250\n",
    "    porte_monnaie-=0.250*prix_compte\n",
    "    fromage = True\n",
    "else:\n",
    "    poids_panier+=3*poids_yaourt\n",
    "    porte_monnaie-=3*prix_yaourt\n",
    "\n",
    "if fromage:\n",
    "    poids_panier+=poids_pain\n",
    "    porte_monnaie-=prix_pain\n",
    "print(f\"Poids du panner : {poids_panier}kg, Solde: {porte_monnaie}€\")"
   ]
  },
  {
   "cell_type": "markdown",
   "id": "1b090de4",
   "metadata": {},
   "source": [
    "#### Q6. On souhaite tester le programme dans plusieurs scénarios différents (décrits ci-dessous). Pour cela on propose de créer une fonction `algo_du_marche` qui prend en entrée les variables associées aux informations changeantes entre les scénarios et retourne une liste contenant le poids du panier et l'argent restant. Créez cette fonction à partir de votre programme précédent et testez la sur chaque scénario en complétant le code donné ci-dessous.\n",
    "\n",
    "- #### **Scénario 1**: \n",
    "    - Prix tomates: 3.5 €/Kg\n",
    "    - Prix tomme: 10 €/Kg\n",
    "    - Prix comte: 15 €/Kg\n",
    "    - Prix d'un Yaourt: 0.5€ ; 125g par Yaourt\n",
    "    - Prix d'une baguette de pain: 1.1 € ; 200g par baguette\n",
    "    \n",
    "    **Poids du panier: 375g ; argent restant: 52.5 €**\n",
    "    \n",
    "- #### **Scénario 2**: \n",
    "    - **Prix tomates: 1.5 €/Kg**\n",
    "    - **Prix tomme: 11 €/Kg EN PROMO**\n",
    "    - Prix comte: 15 €/Kg\n",
    "    - Prix d'un Yaourt: 0.5€ ; 125g par Yaourt\n",
    "    - Prix d'une baguette de pain: 1.1 € ; 200g par baguette\n",
    "    \n",
    "    **Poids du panier: 3700g ; argent restant: 42.9 €**\n",
    "    \n",
    "- #### **Scénario 3**: \n",
    "    - Prix tomates: 1.5 €/Kg\n",
    "    - **Prix tomme: 11 €/Kg**\n",
    "    - **Prix comte: 11 €/Kg**\n",
    "    - Prix d'un Yaourt: 0.5€ ; 125g par Yaourt\n",
    "    - Prix d'une baguette de pain: 1.1 € ; 200g par baguette\n",
    "    \n",
    "    **Poids du panier: 3450g ; argent restant: 45.65 €**"
   ]
  },
  {
   "cell_type": "code",
   "execution_count": 16,
   "id": "788d0115",
   "metadata": {},
   "outputs": [],
   "source": [
    "# Définir la fonction algo_du_marche ici\n",
    "def algo_du_marche(scenario):\n",
    "    porte_monnaie = 2*20 + 1*10 + 2*2\n",
    "    poids_panier = 0\n",
    "    prix_tomates = 3.5\n",
    "    prix_tomme = 10\n",
    "    prix_comte = 15\n",
    "    prix_yaourt = 0.5\n",
    "    poids_yaourt = 0.125\n",
    "    prix_pain = 1.1\n",
    "    poids_pain = 0.200        \n",
    "    promotion_savoie = False\n",
    "    fromage = False\n",
    "    if scenario == 1:\n",
    "        prix_tomates = 3.5\n",
    "        prix_tomme = 10\n",
    "        prix_comte = 15\n",
    "        prix_yaourt = 0.5\n",
    "        poids_yaourt = 0.125\n",
    "        prix_pain = 1.1\n",
    "        poids_pain = 0.200        \n",
    "        promotion_savoie = False\n",
    "        fromage = False\n",
    "\n",
    "    elif scenario==2:\n",
    "        prix_tomates = 1.5\n",
    "        prix_tomme = 11\n",
    "        prix_comte = 15\n",
    "        prix_yaourt = 0.5\n",
    "        poids_yaourt = 0.125\n",
    "        prix_pain = 1.1\n",
    "        poids_pain = 0.200\n",
    "        promotion_savoie = True\n",
    "        fromage = False\n",
    "    else:\n",
    "        prix_tomates = 1.5\n",
    "        prix_tomme = 11\n",
    "        prix_comte = 11\n",
    "        prix_yaourt = 0.5\n",
    "        poids_yaourt = 0.125\n",
    "        prix_pain = 1.1\n",
    "        poids_pain = 0.200\n",
    "        promotion_savoie = True\n",
    "        fromage = False\n",
    "    if prix_tomates < 2:\n",
    "        print(\"j'achète des tomates\")\n",
    "        poids_panier+=3\n",
    "        porte_monnaie-=3*prix_tomates\n",
    "    \n",
    "    if promotion_savoie:\n",
    "        poids_panier+=0.5\n",
    "        porte_monnaie-=0.5*prix_tomme\n",
    "        fromage = True\n",
    "        \n",
    "    elif prix_comte < 12:\n",
    "        print(\"j'achète du comté\")\n",
    "        poids_panier+=0.250\n",
    "        porte_monnaie-=0.250*prix_compte\n",
    "        fromage = True\n",
    "    else:\n",
    "        poids_panier+=3*poids_yaourt\n",
    "        porte_monnaie-=3*prix_yaourt\n",
    "\n",
    "    if fromage:\n",
    "        poids_panier+=poids_pain\n",
    "        porte_monnaie-=prix_pain\n",
    "    return [porte_monnaie, poids_panier]"
   ]
  },
  {
   "cell_type": "code",
   "execution_count": 17,
   "id": "2a0f87c3",
   "metadata": {},
   "outputs": [
    {
     "name": "stdout",
     "output_type": "stream",
     "text": [
      "Scenario 1 : il me reste 52.5 euros et mon panier pèse 0.375 kg\n",
      "\n",
      "j'achète des tomates\n",
      "Scenario 2 : il me reste 42.9 euros et mon panier pèse 3.7 kg\n",
      "\n",
      "j'achète des tomates\n",
      "Scenario 2 : il me reste 42.9 euros et mon panier pèse 3.7 kg\n"
     ]
    }
   ],
   "source": [
    "# Code à compléter pour tester la fonction algo_du_marche. Remplacez les XXX.\n",
    "liste_retour = algo_du_marche(1)\n",
    "print(f\"Scenario 1 : il me reste {liste_retour[0]} euros et mon panier pèse {liste_retour[1]} kg\")\n",
    "print() # Ajout d'une ligne blanche\n",
    "\n",
    "liste_retour_2 = algo_du_marche(2)\n",
    "print(f\"Scenario 2 : il me reste {liste_retour_2[0]} euros et mon panier pèse {liste_retour_2[1]} kg\")\n",
    "print()\n",
    "\n",
    "liste_retour_3 = algo_du_marche(3)\n",
    "print(f\"Scenario 2 : il me reste {liste_retour_3[0]} euros et mon panier pèse {liste_retour_3[1]} kg\")"
   ]
  },
  {
   "cell_type": "markdown",
   "id": "d9e8f529",
   "metadata": {
    "tags": []
   },
   "source": [
    "&nbsp;\n",
    "---\n",
    "---\n",
    "&nbsp;\n",
    "## Exercice 2 - Boucles simples - Tables de multiplication\n",
    "<u>**Notion**</u> : boucles simples.\n",
    "\n",
    "Nous souhaitons afficher la table de multiplication d'un nombre `nb`, le multiplicateur variant entre 0 et `mult_max` inclus.\n",
    "\n",
    "Pour `nb` = 5 et `mult_max` = 3, le résultat attendu est:\n",
    "\n",
    "``5 x 0 = 0``  \n",
    "``5 x 1 = 5``  \n",
    "``5 x 2 = 10``  \n",
    "``5 x 3 = 15``\n",
    "\n",
    "#### Q1. Écrivez le code permettant d'afficher la table de multiplication de `nb` entre 0 et `mult_max` inclus, selon l'affichage demandé. Justifier le choix du type de boucle utilisée."
   ]
  },
  {
   "cell_type": "code",
   "execution_count": 19,
   "id": "afcfbeaa",
   "metadata": {
    "tags": []
   },
   "outputs": [
    {
     "name": "stdout",
     "output_type": "stream",
     "text": [
      "5 x 0 = 0\n",
      "5 x 1 = 5\n",
      "5 x 2 = 10\n",
      "5 x 3 = 15\n",
      "5 x 4 = 20\n",
      "5 x 5 = 25\n",
      "5 x 6 = 30\n",
      "5 x 7 = 35\n",
      "5 x 8 = 40\n",
      "5 x 9 = 45\n",
      "5 x 10 = 50\n"
     ]
    }
   ],
   "source": [
    "nb = 5\n",
    "mult_max = 10\n",
    "for i in range(mult_max+1):\n",
    "    print(f\"{nb} x {i} = {nb*i}\")"
   ]
  },
  {
   "cell_type": "markdown",
   "id": "8740a6d6",
   "metadata": {},
   "source": [
    "---\n",
    "\n",
    "Maintenant, nous souhaitons afficher la table de multiplication de `nb` tant que le résultat ne dépasse pas strictement une valeur `max_res`.\n",
    "\n",
    "Pour `nb` = 5 et `max_res` = 18, le résultat attendu est:\n",
    "\n",
    "``5 x 0 = 0``  \n",
    "``5 x 1 = 5``  \n",
    "``5 x 2 = 10``  \n",
    "``5 x 3 = 15``\n",
    "\n",
    "#### Q2.  Écrivez le code permettant de réaliser cela et justifiez le choix du type de boucle utilisée."
   ]
  },
  {
   "cell_type": "code",
   "execution_count": 21,
   "id": "05b21542",
   "metadata": {},
   "outputs": [
    {
     "name": "stdout",
     "output_type": "stream",
     "text": [
      "5 x 0 = 0\n",
      "5 x 1 = 5\n",
      "5 x 2 = 10\n",
      "5 x 3 = 15\n"
     ]
    }
   ],
   "source": [
    "nb = 5\n",
    "max_res = 18\n",
    "i=0\n",
    "while nb*i<max_res:\n",
    "    print(f\"{nb} x {i} = {nb*i}\")\n",
    "    i+=1\n"
   ]
  },
  {
   "cell_type": "markdown",
   "id": "f294954d",
   "metadata": {},
   "source": [
    "&nbsp;\n",
    "---\n",
    "---\n",
    "&nbsp;\n",
    "## Exercice 3 - Tracer de courbe\n",
    "<u>**Notion**</u> : Boucles et matplotlib."
   ]
  },
  {
   "cell_type": "markdown",
   "id": "37400d5c",
   "metadata": {},
   "source": [
    "L'objectif de cet exercice est d'introduire le tracer de courbes 2D avec la bibliothèse Matplotlib.\n",
    "La fonction `plot` du module `pyplot` de Matplotlib permet de tracer une courbe en Matplotlib. Le code ci-dessous donne un exemple de son utilisation"
   ]
  },
  {
   "cell_type": "code",
   "execution_count": 28,
   "id": "69d95ff6",
   "metadata": {},
   "outputs": [
    {
     "data": {
      "image/png": "[encoded data removed]",
      "text/plain": [
       "<Figure size 640x480 with 1 Axes>"
      ]
     },
     "metadata": {},
     "output_type": "display_data"
    }
   ],
   "source": [
    "import matplotlib.pyplot as plt\n",
    "\n",
    "x = [0, 1, 2, 3, 4, 5] # Liste des valeurs sur l'axe des abscisses\n",
    "fx = [0, 2, 4, 6, 8, 10] # Liste des valeurs sur l'axe des ordonnées\n",
    "\n",
    "fig, ax = plt.subplots() # Création de la figure (fig) et des axes (ax) de la figure\n",
    "ax.plot(x, fx)           # Création de la courbe sur les axes de la figure\n",
    "\n",
    "ax.set(xlabel='x', ylabel='f(x)', title='f(x) = 2x')  # Ajout de la légende des axes et d'un titre\n",
    "plt.show()  # Affichage de la figure \n"
   ]
  },
  {
   "cell_type": "markdown",
   "id": "16dc90c5",
   "metadata": {},
   "source": [
    "---\n",
    "Dans la suite, on cherche à tracer la fonction $f(x)=sin(x)$ sur l'intervalle $[0, 2\\pi]$. On supposera qu'on cherche à tracer $n$ points dans l'intervalle $[0, 2\\pi]$.\n",
    "\n",
    "La première étape consiste à créer deux listes `x` et `fx`. \n",
    "- `x` est donc un vecteur de $n$ valeurs uniformément réparties entre $0$ et $2\\pi$\n",
    "- `fx` est donc un vecteur de $n$ valeurs. Chaque valeur est égale à $sin(z)$ où $z$ est la valeur contenue à la même position dans la liste `x`."
   ]
  },
  {
   "cell_type": "markdown",
   "id": "88cad735",
   "metadata": {},
   "source": [
    "#### Q1. Créez les deux listes `x` et `fx` pour  $n=5$"
   ]
  },
  {
   "cell_type": "code",
   "execution_count": 1,
   "id": "c2778988",
   "metadata": {},
   "outputs": [],
   "source": [
    "from math import pi, sin\n",
    "n=1000\n",
    "x=[]\n",
    "fx=[]\n",
    "for i in range(1, n+1):\n",
    "    x.append((2*pi)*i/n) \n",
    "    fx.append(sin(x[i-1]))"
   ]
  },
  {
   "cell_type": "markdown",
   "id": "8da3b522",
   "metadata": {},
   "source": [
    "#### Q2. En vous aidant du code au début de l'exercice, affichez la courbe $f(x) = sin(x)$ dans l'intervalle $[0, 2\\pi]$"
   ]
  },
  {
   "cell_type": "code",
   "execution_count": 4,
   "id": "8e924d1a",
   "metadata": {},
   "outputs": [
    {
     "data": {
      "image/png": "[encoded data removed]",
      "text/plain": [
       "<Figure size 640x480 with 1 Axes>"
      ]
     },
     "metadata": {},
     "output_type": "display_data"
    }
   ],
   "source": [
    "import matplotlib.pyplot as plt\n",
    "fig, ax = plt.subplots() # Création de la figure (fig) et des axes (ax) de la figure\n",
    "ax.plot(x, fx)           # Création de la courbe sur les axes de la figure\n",
    "\n",
    "ax.set(xlabel='x', ylabel='f(x)', title='f(x) = sin(x)')  # Ajout de la légende des axes et d'un titre\n",
    "plt.show()  # Affichage de la figure "
   ]
  },
  {
   "cell_type": "markdown",
   "id": "cd797535",
   "metadata": {},
   "source": [
    "#### Q3. La courbe précédente ne ressemble pas beaucoup à la fonction sinus. Quel paramètre doit on modifier afin d'améliorer le tracer de la courbe ? Faites plusieurs essais."
   ]
  },
  {
   "cell_type": "code",
   "execution_count": null,
   "id": "e2c048c5",
   "metadata": {},
   "outputs": [],
   "source": []
  },
  {
   "cell_type": "markdown",
   "id": "058c4e7c",
   "metadata": {},
   "source": [
    "&nbsp;\n",
    "---\n",
    "---\n",
    "\n",
    "# Devoirs pour la prochaine séance\n",
    "### Faire les exercice 1 et 2 du TD3 sur papier"
   ]
  },
  {
   "cell_type": "markdown",
   "id": "8cc8631c-fcbb-48e2-88fd-cc156dfe0e83",
   "metadata": {},
   "source": [
    "&nbsp;\n",
    "---\n",
    "---\n",
    "# Pour s'entrainer\n",
    "\n",
    "## Exercice A\n",
    "\n",
    "<u> Notion </u> : définition et utilisation de fonction, importation de module, liste\n",
    "\n",
    "On souhaite définir une fonction `distance(a, b)` qui renvoie la distance Euclidienne entre les points `a` et `b` tels que `a` et `b` sont des listes d'entiers représentant les coordonnées des points d'un espace à 2 dimensions.\n",
    "\n",
    "Par exemple: \n",
    "\n",
    "`a = [0, 0]`  \n",
    "`b = [5, 3]`\n",
    "\n",
    "Avec ces deux points, on devrait obtenir `distance(a,b)=5.83` (arrondi)\n",
    "\n",
    "#### Q1. Écrivez le code définissant la fonction `distance`."
   ]
  },
  {
   "cell_type": "code",
   "execution_count": 56,
   "id": "f4a852e3",
   "metadata": {},
   "outputs": [
    {
     "name": "stdout",
     "output_type": "stream",
     "text": [
      "5.830951894845301\n"
     ]
    }
   ],
   "source": [
    "from math import sqrt\n",
    "def distance(a,b):\n",
    "    return sqrt((a[0]-b[0])**2+(a[1]-b[1])**2)\n",
    "print(distance([0, 0],[5,3]))"
   ]
  },
  {
   "cell_type": "markdown",
   "id": "2d356de4-665d-422f-a529-d1ea02344511",
   "metadata": {},
   "source": [
    "--- \n",
    "Le module [math](https://docs.python.org/fr/3/library/math.html) de la bibliothèque standard de Python contient en fait déjà une fonction `dist` qui permet de renvoyer la distance Euclidienne entre  deux points d'un espace à $n$ dimensions ($n>1$). Contrairement à votre code précédent, cette fonction peut être utilisée sur des points dans un espace $3D$ par exemple."
   ]
  },
  {
   "cell_type": "markdown",
   "id": "5a2c2f22-0353-4266-9ff7-39ef0d0f87b5",
   "metadata": {
    "tags": []
   },
   "source": [
    "#### Q2. Utilisez la fonction `dist` afin d'afficher la distance entre les points suivants :\n",
    "- `a = [0, 0] et b = [5, 3]`   # Résultat attendu : 5.830951894845301\n",
    "- `a = [0, 0, 0] et b = [5, 3, -2]`  # Résultat attendu : 6.164414002968976"
   ]
  },
  {
   "cell_type": "code",
   "execution_count": 57,
   "id": "1d94b9ca",
   "metadata": {},
   "outputs": [
    {
     "name": "stdout",
     "output_type": "stream",
     "text": [
      "5.830951894845301\n",
      "6.164414002968976\n"
     ]
    }
   ],
   "source": [
    "from math import dist\n",
    "print(dist([0, 0],[5,3]))\n",
    "print(dist([0, 0,0],[5,3,-2]))"
   ]
  },
  {
   "cell_type": "markdown",
   "id": "e0d8e908",
   "metadata": {},
   "source": [
    "&nbsp;\n",
    "---\n",
    "---\n",
    "&nbsp;\n",
    "## Exercice B\n",
    "\n",
    "\n",
    "Soit la fonction à 2 variables définie par : $f(x,y) = 3x^2 + y - 1$. \n",
    "On souhaite définir une fonction nommée `ma_fonction` permettant de calculer l'image de $f$ pour n'importe quelles valeurs de $x$ et $y$.\n",
    "\n",
    "\n",
    "#### Q2. Écrivez le code permettant de réaliser cela et testez le sur les 4 exemples suivants en utilisant le modèle de code ci-dessous.\n",
    "\n",
    "- $x=0$ et  $y=0$ ; $f(x,y)=-1$\n",
    "- $x=0$ et  $y=1$ ; $f(x,y)=0$\n",
    "- $x=1$ et  $y=0$ ; $f(x,y)=2$\n",
    "- $x=2$ et  $y=2$ ; $f(x,y)=13$"
   ]
  },
  {
   "cell_type": "code",
   "execution_count": 59,
   "id": "08f03950",
   "metadata": {},
   "outputs": [
    {
     "name": "stdout",
     "output_type": "stream",
     "text": [
      "Pour x = 0 et y = 0 (attendu -1) : -1\n",
      "Pour x = 0 et y = 1 (attendu 0) : 0\n",
      "Pour x = 1 et y = 0 (attendu 2) : 2\n",
      "Pour x = 2 et y = 2 (attendu 13) : 13\n"
     ]
    }
   ],
   "source": [
    "# Modèle de code pour tester la fonction :\n",
    "def ma_fonction(x,y):\n",
    "    return 3*x**2+y-1\n",
    "print(f\"Pour x = 0 et y = 0 (attendu -1) : {ma_fonction(0,0)}\")\n",
    "print(f\"Pour x = 0 et y = 1 (attendu 0) : {ma_fonction(0,1)}\")\n",
    "print(f\"Pour x = 1 et y = 0 (attendu 2) : {ma_fonction(1,0)}\")\n",
    "print(f\"Pour x = 2 et y = 2 (attendu 13) : {ma_fonction(2,2)}\")"
   ]
  },
  {
   "cell_type": "code",
   "execution_count": null,
   "id": "8ed6fbf9",
   "metadata": {},
   "outputs": [],
   "source": []
  },
  {
   "cell_type": "markdown",
   "id": "56fb3631",
   "metadata": {},
   "source": [
    "&nbsp;\n",
    "---\n",
    "---\n",
    "&nbsp;\n",
    "## Exercice C - Conditions et fonctions - Calcul des impôts\n",
    "\n",
    "**<u>Notions</u>** : enchaînement de conditionnelles, fonction, test de code avec fonction\n",
    "\n",
    "On veut calculer le montant d’un impôt à partir du montant de revenus annuels $R$ et du nombre de personnes (parts) d'un foyer $N$. On fera l'hypothèse que $R$ et $N$ sont toujours strictement positifs.\n",
    "\n",
    "La formule pour calculer le montant de l'impôt est la suivante (les chiffres sont fantaisistes) :\n",
    "\n",
    "* pour $R/N$ compris entre 0 et 20000 €, l’impôt est de $R\\times 0,125 - 50\\times N$ ;\n",
    "* pour $R/N$ compris entre 20000 et 30000 €, l’impôt est de $R\\times 0,25 - 100\\times N$ ;\n",
    "* pour $R/N$ au dessus de 30000 €, l’impôt est de $R\\times 0,5 - 200\\times N$.\n",
    "\n",
    "En s’appuyant sur ce mode de calcul, le tableau suivant donne le montant de l’impôt pour différents cas et vous permettra de vérifier les résultats obtenus.\n",
    "\n",
    "| R | N | Impôt (€) |\n",
    "|--|--|--|\n",
    "|25 000|2|3 025|\n",
    "|80 000|3|19 700|\n",
    "|130 000|4|64 200|\n",
    "\n",
    "#### Q1. Complétez le code ci dessous pour obtenir un programme calculant le montant de cet impôt quelles que soient les valeurs de $R$ et $N$. Tester ce code à l'aide des valeurs données ci-dessus."
   ]
  },
  {
   "cell_type": "code",
   "execution_count": 60,
   "id": "d5b0f13c",
   "metadata": {},
   "outputs": [
    {
     "name": "stdout",
     "output_type": "stream",
     "text": [
      "3025.0\n"
     ]
    }
   ],
   "source": [
    "# Init des variables\n",
    "revenu = 25000\n",
    "nb_parts = 2\n",
    "ratio = revenu / nb_parts\n",
    "impot = 0\n",
    "if ratio < 20000:\n",
    "    impot = revenu*0.125-50*nb_parts\n",
    "elif ratio < 30000:\n",
    "    impot = revenu*0.25-100*nb_parts\n",
    "else:\n",
    "    impot = revenu*0.5-200*nb_parts\n",
    "\n",
    "print(impot)"
   ]
  },
  {
   "cell_type": "markdown",
   "id": "1a546d83",
   "metadata": {},
   "source": [
    "---\n",
    "\n",
    "#### Q2. Dans la cellule ci-dessous, définissez la fonction `calcul_impot(revenu, nb_parts)` qui calcule et renvoie le montant de l'impôt d'un foyer de `nb_parts` personnes et ayant un revenu `revenu`."
   ]
  },
  {
   "cell_type": "code",
   "execution_count": 62,
   "id": "f8b67820",
   "metadata": {},
   "outputs": [],
   "source": [
    "def calcul_impot(revenu, nb_parts):\n",
    "    ratio = revenu / nb_parts\n",
    "    impot = 0\n",
    "    if ratio < 20000:\n",
    "        impot = revenu*0.125-50*nb_parts\n",
    "    elif ratio < 30000:\n",
    "        impot = revenu*0.25-100*nb_parts\n",
    "    else:\n",
    "        impot = revenu*0.5-200*nb_parts\n",
    "    return impot\n"
   ]
  },
  {
   "cell_type": "markdown",
   "id": "910e0f87",
   "metadata": {},
   "source": [
    "---\n",
    "#### Q3. En utilisant la fonction précédente, complétez le code suivant afin de tester le calcul de l'impot sur les 3 cas donnés dans le tableau au début de l'exercice. Les \"XXX\" sont à remplacer."
   ]
  },
  {
   "cell_type": "code",
   "execution_count": 64,
   "id": "65e9b7b4",
   "metadata": {},
   "outputs": [
    {
     "name": "stdout",
     "output_type": "stream",
     "text": [
      "revenu : 25000 - nombre de parts : 2, le montant de l'impôt vaut : 3025.0\n",
      "revenu : 80000 - nombre de parts : 3, le montant de l'impôt vaut : 19700.0\n",
      "revenu : 130000 - nombre de parts : 4, le montant de l'impôt vaut : 64200.0\n"
     ]
    }
   ],
   "source": [
    "# Tests\n",
    "print(f\"revenu : 25000 - nombre de parts : 2, le montant de l'impôt vaut : {calcul_impot(25000, 2)}\")\n",
    "print(f\"revenu : 80000 - nombre de parts : 3, le montant de l'impôt vaut : {calcul_impot(80000, 3)}\")\n",
    "print(f\"revenu : 130000 - nombre de parts : 4, le montant de l'impôt vaut : {calcul_impot(130000, 4)}\")"
   ]
  },
  {
   "cell_type": "markdown",
   "id": "61b16e0c-b5d2-48d4-845d-89ef1eb5dc30",
   "metadata": {},
   "source": [
    "&nbsp;\n",
    "---\n",
    "---\n",
    "&nbsp;\n",
    "## Exercice D - Boucles\n",
    "\n",
    "#### Q1. Soit $a$ et $b$ deux entiers quelconques. Ecrivez un programme affichant le plus petit entier multiple à la fois de $a$ et $b$."
   ]
  },
  {
   "cell_type": "code",
   "execution_count": 115,
   "id": "f6d962ea",
   "metadata": {},
   "outputs": [
    {
     "name": "stdout",
     "output_type": "stream",
     "text": [
      "2\n"
     ]
    }
   ],
   "source": [
    "def ppcd(a,b):\n",
    "    n = min(a,b)\n",
    "    while n > 1 and (a % n != 0 or b % n != 0):\n",
    "        n-=1\n",
    "    return n\n",
    "print(ppcd(2, 20))"
   ]
  },
  {
   "cell_type": "markdown",
   "id": "466f73f7",
   "metadata": {},
   "source": [
    "#### Q2. Ecrire une fonction `impairs` qui renvoie la liste de tous les entiers impairs dans un intervalle [a,b]."
   ]
  },
  {
   "cell_type": "code",
   "execution_count": 6,
   "id": "1942fa2c",
   "metadata": {},
   "outputs": [
    {
     "name": "stdout",
     "output_type": "stream",
     "text": [
      "[5, 7, 9]\n",
      "[5, 7, 9]\n"
     ]
    }
   ],
   "source": [
    "def impairs(a,b):\n",
    "    liste = []\n",
    "    for i in range(a,b+1):\n",
    "        if i % 2 == 1:\n",
    "            liste.append(i)\n",
    "    return liste\n",
    "print(impairs(5, 10))\n",
    "print([i for i in range(5,11) if i % 2 == 1])"
   ]
  },
  {
   "cell_type": "code",
   "execution_count": null,
   "id": "1eb7d1af",
   "metadata": {},
   "outputs": [],
   "source": []
  }
 ],
 "metadata": {
  "kernelspec": {
   "display_name": "Python 3 (ipykernel)",
   "language": "python",
   "name": "python3"
  },
  "language_info": {
   "codemirror_mode": {
    "name": "ipython",
    "version": 3
   },
   "file_extension": ".py",
   "mimetype": "text/x-python",
   "name": "python",
   "nbconvert_exporter": "python",
   "pygments_lexer": "ipython3",
   "version": "3.9.18"
  }
 },
 "nbformat": 4,
 "nbformat_minor": 5
}
